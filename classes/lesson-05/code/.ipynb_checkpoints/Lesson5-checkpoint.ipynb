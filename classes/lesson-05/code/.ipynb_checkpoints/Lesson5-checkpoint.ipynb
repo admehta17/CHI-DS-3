{
 "cells": [
  {
   "cell_type": "markdown",
   "metadata": {},
   "source": [
    "The Federal Elections Committee releases data on the individual donations received for each candidate:\n",
    "    http://www.fec.gov/disclosurep/PDownload.do\n",
    "    \n",
    "Often, candidates tout their small individual donations as a sign of appealing to the masses and not just big donors.\n",
    "\n",
    "In the folder is Hilary Clinton's Individual Donor Contribution data (Hilary.csv)\n",
    "\n",
    "Read in the data (Hint: pd.read_csv) and examine what the average donation is for her campiagn\n",
    "\n",
    "The variable for donations is \"Amount\""
   ]
  },
  {
   "cell_type": "code",
   "execution_count": null,
   "metadata": {
    "collapsed": false
   },
   "outputs": [],
   "source": []
  },
  {
   "cell_type": "markdown",
   "metadata": {},
   "source": [
    "Import the bootstrap library and construct a 95% Confidence Interval around the mean for her donation amount. \n",
    "\n",
    "What does the confidence interval tell you about the likely mean of the population?\n",
    "\n",
    "Hint: bootstrap.confidence_interval(data)"
   ]
  },
  {
   "cell_type": "code",
   "execution_count": null,
   "metadata": {
    "collapsed": true
   },
   "outputs": [],
   "source": []
  },
  {
   "cell_type": "markdown",
   "metadata": {},
   "source": [
    "Read in the Donald Trump Individual Donation File. (Trump.csv)\n",
    "\n",
    "Does the mean value of his average donation seem to differ from Hilary Clinton's?"
   ]
  },
  {
   "cell_type": "code",
   "execution_count": null,
   "metadata": {
    "collapsed": true
   },
   "outputs": [],
   "source": []
  },
  {
   "cell_type": "markdown",
   "metadata": {},
   "source": [
    "Look through the Crime in Communities data and data dictionary in the code folder.\n",
    "\n",
    "Think of a variable that you believe would probably predict the Crime Rate.\n",
    "\n",
    "Run the correlation function from the bootstrap library get the correlation coefficient and the 95% CI for that correlation coefficient.\n",
    "\n",
    "Hint: correlation(predictor,outcome)\n",
    "\n",
    "How right was your guess?"
   ]
  },
  {
   "cell_type": "code",
   "execution_count": null,
   "metadata": {
    "collapsed": true
   },
   "outputs": [],
   "source": []
  },
  {
   "cell_type": "markdown",
   "metadata": {
    "collapsed": true
   },
   "source": [
    "Compare the Pearson's correlation coefficient you estimated in the previous question to the Spearman's rho coefficient.\n",
    "\n",
    "Does the data seem to follow a linear trend or monotonic trend better?\n",
    "\n",
    "Hint: bootstrap.correlation(predictor,outcome,type=\"spearman\")"
   ]
  },
  {
   "cell_type": "code",
   "execution_count": null,
   "metadata": {
    "collapsed": true
   },
   "outputs": [],
   "source": []
  },
  {
   "cell_type": "markdown",
   "metadata": {},
   "source": [
    "There is a correlation between the percentage of a city's population that uses public transit and that city's crime rate '\n",
    "\n",
    "Think of a potential alternative explanation/variable that could account for correlation between public transit use and the city's crime rate, and test the partial correlation.\n",
    "\n",
    "Use the partial_correlation function in the bootstrap library.\n",
    "\n",
    "Hint: bootstrap.partial_correlation(predictor,outcome,control_variable)"
   ]
  },
  {
   "cell_type": "code",
   "execution_count": null,
   "metadata": {
    "collapsed": true
   },
   "outputs": [],
   "source": []
  },
  {
   "cell_type": "code",
   "execution_count": null,
   "metadata": {
    "collapsed": true
   },
   "outputs": [],
   "source": [
    "Run the following code to conduct a K-S test on the distribution of the Crime Data. \n",
    "\n",
    "Which of the following distributions appear to fit best\n",
    "\n",
    "Hint: Small D-values mean that the data match that distribution"
   ]
  },
  {
   "cell_type": "code",
   "execution_count": null,
   "metadata": {
    "collapsed": true
   },
   "outputs": [],
   "source": [
    "import scipy\n",
    "\n",
    "import pandas as pd\n",
    "cdfs = [\n",
    "    \"norm\",            #Normal (Gaussian)\n",
    "    \"cauchy\",          #Cauchy\n",
    "    \"chi2\",            #Chi-squared\n",
    "    \"gamma\",           #Gamma\n",
    "    \"pareto\",          #Pareto\n",
    "    \"powerlaw\",        #Power-function\n",
    "    \"uniform\",         #Uniform\n",
    "]\n",
    "\t\n",
    "df = pd.read_csv(\"CommunitiesandCrime.csv\")\n",
    "sample=df.PctEmploy\n",
    "dist_statistics = []\n",
    "for cdf in cdfs:\n",
    "\t#fit our data set against every probability distribution\n",
    "\tparameters = eval(\"scipy.stats.\"+cdf+\".fit(sample)\");\n",
    "\n",
    "\t#Applying the Kolmogorov-Smirnof one sided test\n",
    "\tD, p = scipy.stats.kstest(sample, cdf, args=parameters);\n",
    "\n",
    "\t#pretty-print the results\n",
    "\tprint cdf.ljust(16) + (\"p: \"+str(p)).ljust(25)+\"D: \"+str(D);\n",
    "\tdist_statistics.append([cdf.ljust(16), D])\n",
    "\n",
    "dist_df = pd.DataFrame(dist_statistics,columns=[\"distribution\",\"D\"])"
   ]
  },
  {
   "cell_type": "code",
   "execution_count": null,
   "metadata": {
    "collapsed": true
   },
   "outputs": [],
   "source": []
  }
 ],
 "metadata": {
  "kernelspec": {
   "display_name": "Python 2",
   "language": "python",
   "name": "python2"
  },
  "language_info": {
   "codemirror_mode": {
    "name": "ipython",
    "version": 2
   },
   "file_extension": ".py",
   "mimetype": "text/x-python",
   "name": "python",
   "nbconvert_exporter": "python",
   "pygments_lexer": "ipython2",
   "version": "2.7.11"
  }
 },
 "nbformat": 4,
 "nbformat_minor": 0
}
