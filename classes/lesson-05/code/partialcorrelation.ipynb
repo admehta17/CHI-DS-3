{
 "cells": [
  {
   "cell_type": "code",
   "execution_count": null,
   "metadata": {
    "collapsed": true
   },
   "outputs": [],
   "source": [
    "import numpy as np\n",
    "import scipy\n",
    "from bootstrap import *"
   ]
  },
  {
   "cell_type": "code",
   "execution_count": null,
   "metadata": {
    "collapsed": true
   },
   "outputs": [],
   "source": [
    "#let's simulate collecting 200 data points across the year of heat, icecream consumption, and crime\n",
    "\n",
    "#we'll set the sample size to be 100\n",
    "n = 200\n",
    "\n",
    "#we'll set the correlation we want between heat and crime to be .3\n",
    "r_crime = 0.3\n",
    "\n",
    "#we'll set the correlation we want between heat and ice cream to be .8 (highly correlated)\n",
    "r_icecream = 0.8"
   ]
  },
  {
   "cell_type": "code",
   "execution_count": null,
   "metadata": {
    "collapsed": true
   },
   "outputs": [],
   "source": [
    "#let's have heat start out as a random variable with a normal distribution\n",
    "heat = np.random.normal(size=n)\n",
    "\n",
    "#We have to create some random variables with normal distributions to transform into the variables for heat and icecream consumption\n",
    "x1 = np.random.normal(size=n)\n",
    "x2 = np.random.normal(size=n)"
   ]
  },
  {
   "cell_type": "code",
   "execution_count": null,
   "metadata": {
    "collapsed": true
   },
   "outputs": [],
   "source": [
    "\n",
    "#Create a variable called \"crime\" that is correlated with heat the amount we specified\n",
    "crime = r_crime*heat+np.sqrt(1-r_crime*r_crime)*x1   "
   ]
  },
  {
   "cell_type": "code",
   "execution_count": null,
   "metadata": {
    "collapsed": true
   },
   "outputs": [],
   "source": [
    "#Create a variable called \"icecream\" that is correlated with heat the amount we specified\n",
    "icecream = r_icecream*heat+np.sqrt(1-r_icecream*r_icecream)*x2   \n"
   ]
  },
  {
   "cell_type": "code",
   "execution_count": null,
   "metadata": {
    "collapsed": true
   },
   "outputs": [],
   "source": [
    "#Create another variable called \"SES\" that has a relationship with crime, that is unrelated to heat\n",
    "x3 = np.random.normal(size=n)\n",
    "SES =  r_crime*crime+np.sqrt(1-r_crime*r_crime)*x3  "
   ]
  },
  {
   "cell_type": "code",
   "execution_count": null,
   "metadata": {
    "collapsed": true
   },
   "outputs": [],
   "source": [
    "print \"Correlation between ice cream consumption and crime rate\n",
    "#Notice that there appears to be a relationship between the two\n",
    "\n",
    "print correlation(icecream,crime)\n"
   ]
  },
  {
   "cell_type": "code",
   "execution_count": null,
   "metadata": {
    "collapsed": true
   },
   "outputs": [],
   "source": [
    "print \"Correlation between heat and crime rate\"\n",
    "#Notice that there also appears to be a relationship between the two\n",
    "print correlation(heat,crime)"
   ]
  },
  {
   "cell_type": "code",
   "execution_count": null,
   "metadata": {
    "collapsed": true
   },
   "outputs": [],
   "source": [
    "print \"Correlation between heat and Crime, Controlling for icecream consumption\"\n",
    "#Notice that heat still has an effect on Crime because it wasn't being explained by ice cream consumption\n",
    "print partial_correlation(heat,crime,icecream,type=\"pearson\")"
   ]
  },
  {
   "cell_type": "code",
   "execution_count": null,
   "metadata": {
    "collapsed": true
   },
   "outputs": [],
   "source": [
    "print \"Correlation between icecream consumption and Crime, Controlling for Heat\"\n",
    "#Notice that ice cream consumption no longer has an effect on Crime because it's relationship to crime was entirely explained through its relationship to heat \n",
    "print partial_correlation(icecream,crime,heat,type=\"pearson\")"
   ]
  },
  {
   "cell_type": "code",
   "execution_count": null,
   "metadata": {
    "collapsed": true
   },
   "outputs": [],
   "source": [
    "print \"Correlation between SES and Crime, Controlling for Heat\"\n",
    "#Notice that SES still has an effect on Crime because it wasn't being explained by heat\n",
    "print partial_correlation(SES,crime,heat,type=\"pearson\")"
   ]
  }
 ],
 "metadata": {
  "kernelspec": {
   "display_name": "Python 2",
   "language": "python",
   "name": "python2"
  },
  "language_info": {
   "codemirror_mode": {
    "name": "ipython",
    "version": 2
   },
   "file_extension": ".py",
   "mimetype": "text/x-python",
   "name": "python",
   "nbconvert_exporter": "python",
   "pygments_lexer": "ipython2",
   "version": "2.7.10"
  }
 },
 "nbformat": 4,
 "nbformat_minor": 0
}
