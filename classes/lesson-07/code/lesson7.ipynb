{
 "cells": [
  {
   "cell_type": "markdown",
   "metadata": {},
   "source": [
    "### Lesson 7 - Model Fit Evaluation"
   ]
  },
  {
   "cell_type": "markdown",
   "metadata": {},
   "source": [
    "Let's go through the usual library imports"
   ]
  },
  {
   "cell_type": "code",
   "execution_count": 1,
   "metadata": {
    "collapsed": false
   },
   "outputs": [],
   "source": [
    "import numpy as np\n",
    "import pandas as pd\n",
    "from sklearn import linear_model, metrics\n"
   ]
  },
  {
   "cell_type": "markdown",
   "metadata": {},
   "source": [
    "## Cross validation\n",
    "#### Intro to cross validation with bike share data from last time. We will be modeling casual ridership. "
   ]
  },
  {
   "cell_type": "code",
   "execution_count": 5,
   "metadata": {
    "collapsed": false
   },
   "outputs": [
    {
     "name": "stdout",
     "output_type": "stream",
     "text": [
      "Index([u'datetime', u'season', u'holiday', u'workingday', u'weather', u'temp',\n",
      "       u'atemp', u'humidity', u'windspeed', u'casual', u'registered',\n",
      "       u'count'],\n",
      "      dtype='object')\n"
     ]
    }
   ],
   "source": [
    "from sklearn import cross_validation\n",
    "bikeshare = pd.read_csv('bikeshare.csv')\n",
    "print bikeshare.columns"
   ]
  },
  {
   "cell_type": "markdown",
   "metadata": {},
   "source": [
    "#### Create dummy variables and set outcome (dependent) variable"
   ]
  },
  {
   "cell_type": "code",
   "execution_count": 9,
   "metadata": {
    "collapsed": false
   },
   "outputs": [
    {
     "name": "stdout",
     "output_type": "stream",
     "text": [
      "   temp  humidity  weather_1  weather_2  weather_3\n",
      "0  9.84        81        1.0        0.0        0.0\n",
      "1  9.02        80        1.0        0.0        0.0\n",
      "2  9.02        80        1.0        0.0        0.0\n",
      "3  9.84        75        1.0        0.0        0.0\n",
      "4  9.84        75        1.0        0.0        0.0\n",
      "0    3\n",
      "1    8\n",
      "2    5\n",
      "3    3\n",
      "4    0\n",
      "Name: casual, dtype: int64\n"
     ]
    }
   ],
   "source": [
    "#make a dummy variable for weather\n",
    "weather = pd.get_dummies(bikeshare.weather, prefix='weather')\n",
    "\n",
    "#make a data of just the predictors\n",
    "#because the dummies are a separate dataframe, we can join it to the main bikeframe dataframe\n",
    "modeldata = bikeshare[['temp', 'humidity']].join(weather[['weather_1', 'weather_2', 'weather_3']])\n",
    "\n",
    "#our outcome will be the number of casual (non-registered) users who checked out a bike for a given hour\n",
    "y = bikeshare['casual'] \n",
    "\n",
    "#Let's look at the predictors and outcome\n",
    "print modeldata.head(5)\n",
    "print y.head(5)"
   ]
  },
  {
   "cell_type": "markdown",
   "metadata": {},
   "source": [
    "#### Create a cross valiation with 5 folds"
   ]
  },
  {
   "cell_type": "code",
   "execution_count": 25,
   "metadata": {
    "collapsed": true
   },
   "outputs": [],
   "source": [
    "# The first parameter is the total number of data points\n",
    "# The second parameter is the number of folds (K=10)\n",
    "# The last parameter allows us to have some of the data in previous folds be in the new fold.\n",
    "kf = cross_validation.KFold(len(modeldata), n_folds=10, shuffle=True)"
   ]
  },
  {
   "cell_type": "markdown",
   "metadata": {},
   "source": [
    "Let's actually train and test the model on each fold. and save the RMSE values for each test/iteration"
   ]
  },
  {
   "cell_type": "code",
   "execution_count": 26,
   "metadata": {
    "collapsed": false
   },
   "outputs": [
    {
     "name": "stdout",
     "output_type": "stream",
     "text": [
      "#### CROSS VALIDATION each fold ####\n",
      "Model 1\n",
      "RMSE: 41.062533158\n",
      "R2: 0.324327989739\n",
      "Model 2\n",
      "RMSE: 43.2653673197\n",
      "R2: 0.298698060829\n",
      "Model 3\n",
      "RMSE: 40.9712544946\n",
      "R2: 0.320685718491\n",
      "Model 4\n",
      "RMSE: 40.4331182486\n",
      "R2: 0.314459145793\n",
      "Model 5\n",
      "RMSE: 39.8868064094\n",
      "R2: 0.31886926231\n",
      "Model 6\n",
      "RMSE: 40.8035644371\n",
      "R2: 0.337992422391\n",
      "Model 7\n",
      "RMSE: 40.931741824\n",
      "R2: 0.326330539969\n",
      "Model 8\n",
      "RMSE: 41.7799125661\n",
      "R2: 0.313206981932\n",
      "Model 9\n",
      "RMSE: 41.2591462257\n",
      "R2: 0.337130446154\n",
      "Model 10\n",
      "RMSE: 42.8307950271\n",
      "R2: 0.268925957268\n",
      "####  SUMMARY OF CROSS VALIDATION #####\n",
      "Mean of RMSE for all folds: 41.322423971\n",
      "Mean of R2 for all folds: 0.316062652488\n"
     ]
    }
   ],
   "source": [
    "rmse_values = []\n",
    "scores = []\n",
    "n= 0\n",
    "print \"#### CROSS VALIDATION each fold ####\"\n",
    "for train_index, test_index in kf:\n",
    "    lm = linear_model.LinearRegression().fit(modeldata.iloc[train_index], y.iloc[train_index])\n",
    "    mse = metrics.mean_squared_error(y.iloc[test_index], lm.predict(modeldata.iloc[test_index]))\n",
    "    rmse_values.append(mse**.5)\n",
    "    scores.append(lm.score(modeldata.iloc[test_index], y.iloc[test_index]))\n",
    "    n+=1\n",
    "    print 'Model', n\n",
    "    print 'RMSE:', rmse_values[n-1]\n",
    "    print 'R2:', scores[n-1]\n",
    "\n",
    "\n",
    "print \"####  SUMMARY OF CROSS VALIDATION #####\"\n",
    "print 'Mean of RMSE for all folds:', np.mean(rmse_values)\n",
    "print 'Mean of R2 for all folds:', np.mean(scores)"
   ]
  },
  {
   "cell_type": "code",
   "execution_count": 15,
   "metadata": {
    "collapsed": false
   },
   "outputs": [
    {
     "name": "stdout",
     "output_type": "stream",
     "text": [
      "### Single Model ###\n",
      "RMSE of single model: 41.3217895435\n",
      "R2:  0.316589157827\n"
     ]
    }
   ],
   "source": [
    "lm = linear_model.LinearRegression().fit(modeldata, y)\n",
    "print \"### Single Model ###\"\n",
    "print 'RMSE of single model:', metrics.mean_squared_error(y, lm.predict(modeldata))**.5\n",
    "print 'R2: ', lm.score(modeldata, y)"
   ]
  },
  {
   "cell_type": "markdown",
   "metadata": {},
   "source": [
    "### Check\n",
    "Which of the two approaches would predict new data more accurately: the single model or the cross validated, averaged one?\n"
   ]
  },
  {
   "cell_type": "markdown",
   "metadata": {},
   "source": [
    "### Advanced: There are ways to improve our model with regularization. \n",
    "Let's check out the effects on MSE and R2"
   ]
  },
  {
   "cell_type": "code",
   "execution_count": 41,
   "metadata": {
    "collapsed": false
   },
   "outputs": [
    {
     "name": "stdout",
     "output_type": "stream",
     "text": [
      "### OLS ###\n",
      "### OLS ###\n",
      "OLS RMSE:  41.3217895435\n",
      "OLS R2: 0.316589157827\n",
      "~~~ Ridge ~~~\n",
      "Ridge RMSE:  41.3224536218\n",
      "Ridge R2: 0.316567191599\n"
     ]
    }
   ],
   "source": [
    "print \"### OLS ###\"\n",
    "lm = linear_model.LinearRegression().fit(modeldata, y)\n",
    "print \"### OLS ###\"\n",
    "print 'OLS RMSE: ', metrics.mean_squared_error(y, lm.predict(modeldata))**.5\n",
    "print 'OLS R2:', lm.score(modeldata, y)\n",
    "\n",
    "print \"~~~ Ridge ~~~\"\n",
    "ridge = linear_model.RidgeCV(alphas=[0.1, 2.0, 20.0])\n",
    "ridge.fit(modeldata,y)       \n",
    "print 'Ridge RMSE: ', metrics.mean_squared_error(y, ridge.predict(modeldata))**.5\n",
    "print 'Ridge R2:', ridge.score(modeldata, y)"
   ]
  },
  {
   "cell_type": "markdown",
   "metadata": {},
   "source": [
    "#### Examine cross-validation performance"
   ]
  },
  {
   "cell_type": "code",
   "execution_count": 47,
   "metadata": {
    "collapsed": false
   },
   "outputs": [
    {
     "name": "stdout",
     "output_type": "stream",
     "text": [
      "#### CROSS VALIDATION each fold ####\n",
      "####  SUMMARY OF CROSS VALIDATION #####\n",
      "Mean of RMSE for OLS: 41.2522043799\n",
      "Mean of RMSE for Ridge: 41.2521689869\n",
      "Ridge Performed Better\n"
     ]
    }
   ],
   "source": [
    "kf = cross_validation.KFold(len(modeldata), n_folds=8, shuffle=True)\n",
    "OLS_rmse_values = []\n",
    "Ridge_rmse_values = []\n",
    "n= 0\n",
    "print \"#### CROSS VALIDATION each fold ####\"\n",
    "for train_index, test_index in kf:\n",
    "    lm = linear_model.LinearRegression().fit(modeldata.iloc[train_index], y.iloc[train_index])\n",
    "    mse = metrics.mean_squared_error(y.iloc[test_index], lm.predict(modeldata.iloc[test_index]))\n",
    "    OLS_rmse_values.append(mse**.5)\n",
    "\n",
    "    ridge = linear_model.RidgeCV(alphas=[0.1, 1.0, 10.0]).fit(modeldata.iloc[train_index], y.iloc[train_index])\n",
    "    mse = metrics.mean_squared_error(y.iloc[test_index], ridge.predict(modeldata.iloc[test_index]))\n",
    "    Ridge_rmse_values.append(mse**.5)\n",
    "\n",
    "    n+=1\n",
    "\n",
    "\n",
    "print \"####  SUMMARY OF CROSS VALIDATION #####\"\n",
    "print 'Mean of RMSE for OLS:', np.mean(OLS_rmse_values)\n",
    "print 'Mean of RMSE for Ridge:', np.mean(Ridge_rmse_values)\n",
    "\n",
    "if np.mean(OLS_rmse_values) < np.mean(Ridge_rmse_values):print \"OLS Performed Better\"\n",
    "if np.mean(OLS_rmse_values) > np.mean(Ridge_rmse_values):print \"Ridge Performed Better\""
   ]
  },
  {
   "cell_type": "markdown",
   "metadata": {},
   "source": [
    "## Example Application of Gradient Descent "
   ]
  },
  {
   "cell_type": "code",
   "execution_count": 65,
   "metadata": {
    "collapsed": false
   },
   "outputs": [
    {
     "name": "stdout",
     "output_type": "stream",
     "text": [
      "Gradient Descent RMSE: 41.3406146261\n",
      "Gradient Descent R2: 0.315966329231\n",
      "\n",
      "OLS RMSE:  41.3217895435\n",
      "OLS R2: 0.316589157827\n"
     ]
    }
   ],
   "source": [
    "\n",
    "\n",
    "# SGD is very senstitive to varying-sized feature values. \n",
    "# So, first we need to do feature scaling (makes all features have a mean of 0 and Std. Dev of 1)\n",
    "\n",
    "from sklearn.preprocessing import StandardScaler\n",
    "scaler = StandardScaler()\n",
    "scaled_data= scaler.fit_transform(modeldata)\n",
    "lm = linear_model.SGDRegressor()\n",
    "lm.fit(scaled_data, y)\n",
    "print \"Gradient Descent RMSE:\", metrics.mean_squared_error(y, lm.predict(scaled_data))**.5\n",
    "print \"Gradient Descent R2:\", lm.score(scaled_data, y)\n",
    "\n",
    "lm = linear_model.LinearRegression()\n",
    "lm.fit(modeldata, y)\n",
    "print \"\"\n",
    "print 'OLS RMSE: ', metrics.mean_squared_error(y, lm.predict(modeldata))**.5\n",
    "print 'OLS R2:', lm.score(modeldata, y)\n",
    "\n",
    "lm = linear_model.SGDRegressor()"
   ]
  },
  {
   "cell_type": "markdown",
   "metadata": {},
   "source": [
    "Check: How well did gradient descent perform compared to OLS?"
   ]
  },
  {
   "cell_type": "markdown",
   "metadata": {},
   "source": [
    "# Independent Practice: \n",
    "\n",
    "In the code folder, you'll find datasets and data dictionaries for various domains.\n",
    "\n",
    "Choose one to examine, think of an outcome you would like to predict and build a regression model to explain that outcome.\n",
    "\n",
    "Feel free to choose any type of regression method, and apply any dummy coding or transformations to your variables.\n",
    "\n",
    "How well does your model fit cross-validated data? How much cross-validation error did your model observe on average?\n",
    "\n",
    "In the final 20 minutes of class, we'll take time to share our results with the group.\n"
   ]
  },
  {
   "cell_type": "markdown",
   "metadata": {},
   "source": [
    "### Starter Code"
   ]
  },
  {
   "cell_type": "code",
   "execution_count": null,
   "metadata": {
    "collapsed": true
   },
   "outputs": [],
   "source": [
    "#Read in your dataset\n",
    "df = pd.read_csv(\"\")\n",
    "#display the possible predictors and outcomes\n",
    "print df.columns\n",
    "\n",
    "#enter in what you want your predictors to be\n",
    "predictors = ['','','']\n",
    "\n",
    "#enter what you want your outcome to be\n",
    "outcome =''\n",
    "\n",
    "\n",
    "X=df[predictors]\n",
    "y=df[outcome]\n",
    "\n",
    "#the lists will the R2 and RMSE from the cross validation iterations\n",
    "R2_scores = []\n",
    "RMSE_scores =[]\n",
    "\n",
    "#create a cross-validation iterator\n",
    "kf = cross_validation.KFold(len(modeldata), n_folds=10, shuffle=True)\n",
    "\n",
    "for train_index, test_index in kf:\n",
    "####finish the code\n",
    "\n"
   ]
  }
 ],
 "metadata": {
  "kernelspec": {
   "display_name": "Python 2",
   "language": "python",
   "name": "python2"
  },
  "language_info": {
   "codemirror_mode": {
    "name": "ipython",
    "version": 2
   },
   "file_extension": ".py",
   "mimetype": "text/x-python",
   "name": "python",
   "nbconvert_exporter": "python",
   "pygments_lexer": "ipython2",
   "version": "2.7.12"
  }
 },
 "nbformat": 4,
 "nbformat_minor": 0
}
