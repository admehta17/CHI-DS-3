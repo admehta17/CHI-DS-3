{
 "cells": [
  {
   "cell_type": "markdown",
   "metadata": {},
   "source": [
    "#### Using an API - Basics\n",
    "\n",
    "As usual, we have to import all the libraries we'll need for the project. There are two big libraries for parsing an API:\n",
    "The \"requests\" for asking the API for the information we need\n",
    "The lxml library for parsing the (XML formatted) information the API returns"
   ]
  },
  {
   "cell_type": "code",
   "execution_count": null,
   "metadata": {
    "collapsed": true
   },
   "outputs": [],
   "source": [
    "#the requests library allows us to send a request to the API with the specific vaiables and parameters it takes\n",
    "import requests\n",
    "\n",
    "#the lxml library allows us to parse the xml formmated file we'll received after we make our request\n",
    "import lxml.etree as ET"
   ]
  },
  {
   "cell_type": "markdown",
   "metadata": {},
   "source": [
    "#### Sending the API request\n",
    "\n",
    "Let's send a request to API that has our key: UznMvHN96Q7DpAPu2YtZQgPQS\n",
    "\n",
    "We are using the API's url to get the current date and time in the system: http://www.ctabustracker.com/bustime/api/v1/gettime\n",
    "\n",
    "The API url for time takes one parameter: the key, which is our unique code assigned to by the CTA, which serves as like a username"
   ]
  },
  {
   "cell_type": "code",
   "execution_count": null,
   "metadata": {
    "collapsed": true
   },
   "outputs": [],
   "source": [
    "# get the system time from CTA\n",
    "content= requests.get(\"http://www.ctabustracker.com/bustime/api/v1/gettime?key=UznMvHN96Q7DpAPu2YtZQgPQS\")    \n",
    "\n",
    "#save the text that was returned into a string\n",
    "content_string = content.text"
   ]
  },
  {
   "cell_type": "markdown",
   "metadata": {},
   "source": [
    "#### Loading the XML to an XML reader\n",
    "\n",
    "Let's load the XML into an XML reader and see what the returned content looks like. \n",
    "\n",
    "We should see a bunch of a tags (like in HTML). What's the tag that our desired information (the time) is in between"
   ]
  },
  {
   "cell_type": "code",
   "execution_count": null,
   "metadata": {
    "collapsed": false
   },
   "outputs": [],
   "source": [
    "# let's load in the XML into an XML reader ET.fromstring\n",
    "# We'll save the parsed XML as a variable called \"doc\"\n",
    "doc = ET.fromstring(content_string)\n",
    "\n",
    "#Let's see what the returned content looks like'. We should see a bunch of a tags (like in HTML). What's the tag that our desired information (the time) is in between\n",
    "print ET.tostring(doc,pretty_print=True)\n"
   ]
  },
  {
   "cell_type": "markdown",
   "metadata": {},
   "source": [
    "#### Loading the XML to an XML reader\n",
    "\n",
    "Right now, we have the content , but it's in an XML format. \n",
    "\n",
    "We need to parse the XML and access the information in the tag by traversing the XML tree"
   ]
  },
  {
   "cell_type": "code",
   "execution_count": null,
   "metadata": {
    "collapsed": false
   },
   "outputs": [],
   "source": [
    "#let's access the information in between the \"tm\" tags and get the text\n",
    "current_time = doc.find('tm').text\n",
    "\n",
    "#print out the current date and time\n",
    "print current_time"
   ]
  },
  {
   "cell_type": "markdown",
   "metadata": {},
   "source": [
    "Acquire Different Kinds of Data\n",
    "\n",
    "Let's try another API feature provided by CTA. Let's get all of the route names of all of the buses.\n",
    "\n",
    "The API url to make that request is: http://www.ctabustracker.com/bustime/api/v1/getroutes\n",
    "\n",
    "We'll pass on our key again\n",
    "\n",
    "Once we make the request, we'll save the XML content to a string"
   ]
  },
  {
   "cell_type": "code",
   "execution_count": null,
   "metadata": {
    "collapsed": true
   },
   "outputs": [],
   "source": [
    "#retreive the routes of all the buses in the CTA\n",
    "content= requests.get(\"http://www.ctabustracker.com/bustime/api/v1/getroutes?key=UznMvHN96Q7DpAPu2YtZQgPQS\") \n",
    "content_string = content.text"
   ]
  },
  {
   "cell_type": "markdown",
   "metadata": {},
   "source": [
    "#### Loading XML and printing the XML tree\n",
    "\n",
    "Pass on the information to an XML parser and save the xml tree as a variable called \"doc\"\n",
    "\n",
    "Let's see what the content looks like.' What tag enclose the route name information? Are there tags within tags?"
   ]
  },
  {
   "cell_type": "code",
   "execution_count": null,
   "metadata": {
    "collapsed": false
   },
   "outputs": [],
   "source": [
    "doc = ET.fromstring(content_string)\n",
    "print content_string"
   ]
  },
  {
   "cell_type": "markdown",
   "metadata": {},
   "source": [
    "#### Retreiving the information between XML tags \n",
    "\n",
    "Let's get a list of all of the information between the \"route\" tags that you saw when you printed the content_string."
   ]
  },
  {
   "cell_type": "code",
   "execution_count": null,
   "metadata": {
    "collapsed": true
   },
   "outputs": [],
   "source": [
    "routes = doc.findall('route')"
   ]
  },
  {
   "cell_type": "code",
   "execution_count": null,
   "metadata": {
    "collapsed": false,
    "scrolled": true
   },
   "outputs": [],
   "source": [
    "\n",
    "#if we printed the route information, we would get a list of XML containers because there are tags within the 'route' tags\n",
    "print routes"
   ]
  },
  {
   "cell_type": "markdown",
   "metadata": {},
   "source": [
    "We can see how many routes there are by printing the length of the list holding all of the routes and their subtags\n"
   ]
  },
  {
   "cell_type": "code",
   "execution_count": null,
   "metadata": {
    "collapsed": false
   },
   "outputs": [],
   "source": [
    "print len(routes)"
   ]
  },
  {
   "cell_type": "markdown",
   "metadata": {},
   "source": [
    "We want to access the route names contained within the route tags, so we'll make a new list to hold the specific route numbers called routenames"
   ]
  },
  {
   "cell_type": "code",
   "execution_count": null,
   "metadata": {
    "collapsed": true
   },
   "outputs": [],
   "source": [
    "routenames = []"
   ]
  },
  {
   "cell_type": "markdown",
   "metadata": {},
   "source": [
    "For every route in the original list of routes, we'll add that specific route number to our route name list"
   ]
  },
  {
   "cell_type": "code",
   "execution_count": null,
   "metadata": {
    "collapsed": false
   },
   "outputs": [],
   "source": [
    "#For every route tag in the XML tree\n",
    "for route in routes:\n",
    "    #look within that route tag and acces the 'rtnm' tag. Save the result to a variable called route_result\n",
    "    route_result = route.find('rtnm').text\n",
    "    \n",
    "    #append the route to the list of routenames we made\n",
    "    routenames.append(route_result)\n",
    "print routenames"
   ]
  },
  {
   "cell_type": "markdown",
   "metadata": {},
   "source": [
    "#### Get the route numbers from the XML tree\n",
    "\n",
    "Go back to the xml tree returned by the request. See what tags hold the route numbers.\n",
    "\n",
    "Make an empty list called full_route_list and write a \"for loop\" to go through all of the routes and append each route number to that full_route_list variable "
   ]
  },
  {
   "cell_type": "code",
   "execution_count": null,
   "metadata": {
    "collapsed": true
   },
   "outputs": [],
   "source": [
    "full_route_list=[]\n",
    "for route in routes:\n",
    "\troute_result = route.find('rt').text\n",
    "\tfull_route_list.append(route_result)"
   ]
  },
  {
   "cell_type": "markdown",
   "metadata": {},
   "source": [
    "#### Getting the directions for each route\n",
    "\n",
    "We can now use the full_route_list to take advantage of another API feature.\n",
    "\n",
    "The CTA API allows you to get the stops for a specific route. However, you need to know the route directions the bus goes in (either Eastbound and Westbound or Northbound and Southbound).\n",
    "\n",
    "We'll eventually get all of the stops for every bus, but first let's get all of the directions."
   ]
  },
  {
   "cell_type": "markdown",
   "metadata": {},
   "source": [
    "#### How to store multiple directions for each route\n",
    "\n",
    "Let's start by importing a library that allows us to have special type of dictionary called a default dict\n",
    "\n",
    "A default dictionary allows you store values associated with a unique key (i.e., the bus, and in this case, we're going to store the directions as a list in the dictionary\n",
    "\n",
    "The default default dictionary allows us to set the default data structure to be a list, so we can immediately start appending to the dictionary instead of having to create the list for each key."
   ]
  },
  {
   "cell_type": "code",
   "execution_count": null,
   "metadata": {
    "collapsed": true
   },
   "outputs": [],
   "source": [
    "#this will import a type of data structure called a default_dict, where when you first reference a key in the dictionary, it gives it a default type.\n",
    "from collections import defaultdict\n",
    "\n",
    "#We want to make a dictionary that has the route number as the key, and stores the directions in a list\n",
    "#we'll make a default dictionary that holds everything in a list\n",
    "route_directions = defaultdict(list)"
   ]
  },
  {
   "cell_type": "markdown",
   "metadata": {},
   "source": [
    "#### Now, let's go through every route number we have and ask the API to return the directions, and we'll go through the XML result and parse out the information like before."
   ]
  },
  {
   "cell_type": "code",
   "execution_count": null,
   "metadata": {
    "collapsed": false
   },
   "outputs": [],
   "source": [
    "#for every route number in our list of route numers,\n",
    "for route in full_route_list:\n",
    "\n",
    "\n",
    "\tcontent= requests.get(\"http://www.ctabustracker.com/bustime/api/v1/getdirections?key=UznMvHN96Q7DpAPu2YtZQgPQS&rt=%s\" % route) \n",
    "\tcontent_string = content.text\n",
    "\t\n",
    "    ##we'll parse the results, which is an XML file holding the route directions in between the \"dir\" tags\n",
    "\n",
    "\tdoc = ET.fromstring(content_string)\n",
    "\tdirections = doc.findall('dir')\n",
    "\t\n",
    "\n",
    "\t# for every single \n",
    "\tfor direction in directions:\n",
    "\t\troute_directions[route].append(direction.text)"
   ]
  },
  {
   "cell_type": "markdown",
   "metadata": {},
   "source": [
    "#### Use the route number information and te bus number to get the bus stops from the API\n",
    "\n",
    "We now have a dictionary of all of the directions for every bus number.\n",
    "\n",
    "Let's get the stops for each bus line and save those to a different dictionary"
   ]
  },
  {
   "cell_type": "code",
   "execution_count": null,
   "metadata": {
    "collapsed": false
   },
   "outputs": [],
   "source": [
    "busstops = defaultdict(list)\n",
    "\n",
    "for busnumber, directions in route_directions.items():\n",
    "        for direction in directions:\n",
    "            content= requests.get(\"http://www.ctabustracker.com/bustime/api/v1/getstops?key=UznMvHN96Q7DpAPu2YtZQgPQS&rt=%s&dir=%s\" %(busnumber,direction))\n",
    "            content_string = content.text\n",
    "            doc = ET.fromstring(content_string)\n",
    "            stops = doc.findall('stop')\n",
    "            for stop in stops:\n",
    "                busstops[busnumber].append(stop.find('stpid').text)\n",
    "            \n",
    "            "
   ]
  },
  {
   "cell_type": "markdown",
   "metadata": {
    "collapsed": true
   },
   "source": [
    "#### Accessing the stop numbers for each bus\n",
    "Now, for every bus, we know the specific stop numbers it stops at in its routes"
   ]
  },
  {
   "cell_type": "code",
   "execution_count": null,
   "metadata": {
    "collapsed": false
   },
   "outputs": [],
   "source": [
    "print busstops['77']"
   ]
  },
  {
   "cell_type": "markdown",
   "metadata": {},
   "source": [
    "##### Make a dataframe to hold data on how much overlap two busses have\n",
    "\n",
    "We'll import pandas and make a data frame where the bus number is both the index and the columns.\n",
    "\n",
    "This dataframe will hold information regarding how many stops each bus has with every other bus"
   ]
  },
  {
   "cell_type": "code",
   "execution_count": null,
   "metadata": {
    "collapsed": false
   },
   "outputs": [],
   "source": [
    "import pandas as pd\n",
    "busnetwork = pd.DataFrame(0, index=busstops.keys(), columns=busstops.keys())\n"
   ]
  },
  {
   "cell_type": "code",
   "execution_count": null,
   "metadata": {
    "collapsed": false,
    "scrolled": false
   },
   "outputs": [],
   "source": [
    "import itertools\n",
    "import numpy\n",
    "\n",
    "pairwise_combinations = itertools.combinations(busstops,2)\n",
    "for stop1, stop2 in pairwise_combinations:\n",
    "    overlap = len(set(busstops[stop1]) & set(busstops[stop2]))\n",
    "    overlap = int(overlap)\n",
    "    busnetwork.set_value(stop1, stop2, overlap)\n",
    "    busnetwork.set_value(stop2, stop1, overlap)\n",
    "\n",
    "print busnetwork.head(10)"
   ]
  },
  {
   "cell_type": "markdown",
   "metadata": {
    "collapsed": true
   },
   "source": [
    "#### Can you determine which 10 buses have the most overlapping stops with other buses?\n",
    "\n",
    "Use pandas dataframe commands to help you find your answer"
   ]
  },
  {
   "cell_type": "code",
   "execution_count": null,
   "metadata": {
    "collapsed": false
   },
   "outputs": [],
   "source": [
    "top_buses = busnetwork.sum(axis=0)\n",
    "print top_buses.sort_values(ascending=False)"
   ]
  },
  {
   "cell_type": "markdown",
   "metadata": {},
   "source": [
    "#### Advanced Analysis Options - Find the most well connected buses\n",
    "\n",
    "You can treat the data of overlaps between all buses as a network\n",
    "\n",
    "This network can be loaded into the networkx package, and the centrality of each bus can be calculated\n",
    "\n",
    "Centrality represents how much opportunity a node has in a network to access other nodes. It's analogous to being \"well connected\" to the population\n",
    "\n",
    "There are three common centrality measures used\n",
    "\n",
    "Degree Centrality: How many direct connections you have with other nodes\n",
    "\n",
    "Closeness Cenrality: How quickly can you access every other node on average\n",
    "\n",
    "PageRank Centrality: How influential are the nodes you are connected to"
   ]
  },
  {
   "cell_type": "code",
   "execution_count": null,
   "metadata": {
    "collapsed": false
   },
   "outputs": [],
   "source": [
    "import networkx as nx\n",
    "graph = nx.from_numpy_matrix(busnetwork.values)\n",
    "mapping=dict(zip(range(len(busnetwork.index)),busnetwork.index))           \n",
    "graph = nx.relabel_nodes(graph,mapping)\n",
    "degree_centrality = nx.degree_centrality(graph)\n",
    "pagerank_centrality = nx.pagerank_numpy(graph)\n",
    "closeness_centrality = nx.closeness_centrality(graph)\n",
    "\n",
    "degree_df = pd.DataFrame(degree_centrality.items(),columns=[\"BusNumber\",\"DegreeCentrality\"])\n",
    "closeness_df = pd.DataFrame(closeness_centrality.items(),columns=[\"BusNumber\",\"ClosenessCentrality\"])\n",
    "pagerank_df = pd.DataFrame(pagerank_centrality.items(),columns=[\"BusNumber\",\"PageRankCentrality\"])\n",
    "\n",
    "centrality_df = pd.merge(pd.merge(degree_df, closeness_df, on='BusNumber'),pagerank_df,on=\"BusNumber\")\n",
    "\n",
    "\n",
    "print centrality_df.sort_values(by=\"PageRankCentrality\",ascending=False).head(10)\n"
   ]
  },
  {
   "cell_type": "markdown",
   "metadata": {},
   "source": [
    "#### Advanced Analysis - Multi-Dimensional Scaling\n",
    "\n",
    "You can apply advanced data processing techniques to the data like Multi-Dimensional Scaling (MDS) to try to represent the similarity and dissimilarity between busses (in terms of overlapping stops) in two dimensions (e.g., lattitude and longitude).\n",
    "\n",
    "We'll cover this technique in more detail in the dimension reduction lesson"
   ]
  },
  {
   "cell_type": "code",
   "execution_count": null,
   "metadata": {
    "collapsed": false
   },
   "outputs": [],
   "source": [
    "from sklearn.manifold import MDS\n",
    "import matplotlib.pyplot as plt\n",
    "\n",
    "%matplotlib inline\n",
    "nmds = MDS(n_components=2, metric=True, max_iter=30000, eps=1e-12, dissimilarity=\"euclidean\")\n",
    "\n",
    "#from scipy.spatial.distance import pdist, squareform\n",
    "#distances = squareform(pdist(busnetwork.as_matrix(), 'Mahalanobis'))\n",
    "npos = nmds.fit_transform(busnetwork)\n",
    "fig = plt.figure(1)\n",
    "ax = plt.axes([0., 0., 2., 2.])\n",
    "plt.scatter(npos[:, 0], npos[:, 1], s=20, c='b')\n",
    "for i in range(len(busnetwork)):\n",
    "    ax.annotate(list(busnetwork.columns.values)[i], (npos[i, 0],npos[i, 1]))  \n",
    "plt.show()\n"
   ]
  }
 ],
 "metadata": {
  "kernelspec": {
   "display_name": "Python 2",
   "language": "python",
   "name": "python2"
  },
  "language_info": {
   "codemirror_mode": {
    "name": "ipython",
    "version": 2
   },
   "file_extension": ".py",
   "mimetype": "text/x-python",
   "name": "python",
   "nbconvert_exporter": "python",
   "pygments_lexer": "ipython2",
   "version": "2.7.11"
  }
 },
 "nbformat": 4,
 "nbformat_minor": 0
}
