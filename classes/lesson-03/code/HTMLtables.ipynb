{
 "cells": [
  {
   "cell_type": "markdown",
   "metadata": {},
   "source": [
    "### We're going to cover the basic of scraping a data table from a webpage\n"
   ]
  },
  {
   "cell_type": "markdown",
   "metadata": {},
   "source": [
    "#### Function to parse tables from HTML source code into a python list\n",
    "\n",
    "First, run the following script, which defines a function called \"table_reader\" that receives a webpage's html source code, and finds the table in it, and extracts the elements, saving the elements of each row to a list.\n",
    "\n",
    "The result of the function is a list of lists, with each list containing the entries from a row in the table.\n",
    "\n"
   ]
  },
  {
   "cell_type": "code",
   "execution_count": null,
   "metadata": {
    "collapsed": true
   },
   "outputs": [],
   "source": [
    "#import the html parser that constructs of tree of tags and what's in them\n",
    "import lxml.html as ET\n",
    "\n",
    "#Let's make a function that reads tables and gets the useful information\n",
    "#content_string is the source code for the page\n",
    "#table_number is which table we should parse if there are multiple tables on the page. \n",
    "#The default value for table_number is 0, meaning retreive the first table\n",
    "def table_reader(source_code,table_number=0):\n",
    "    \n",
    "    #send the page html to the html parser\n",
    "    doc = ET.fromstring(source_code)\n",
    "    \n",
    "    #make an empty list to save our table into\n",
    "    data=[]\n",
    "    \n",
    "    #look in between the tags that say \"table\" and find all of the row elements, which are the <tr> tags \n",
    "    #the table indicates, which table on the page to retreive in case there are many\n",
    "    rows = doc.xpath(\"//table\")[table_number].findall(\"tr\")\n",
    "    \n",
    "    #go through the list of table rows    \n",
    "    for row in rows:\n",
    "        #append to our data all of the data in the cells of the row\n",
    "        data.append([c.text_content() for c in row.getchildren()])\n",
    "    \n",
    "    #return the data list\n",
    "    return data"
   ]
  },
  {
   "cell_type": "markdown",
   "metadata": {},
   "source": [
    "#### Parsing a table from a single webpage\n",
    "\n",
    "Let's try it out on a simple webpage\n",
    "\n",
    "Here is a list of crime rates of major cities across the U.S from Wikipedia\n",
    "\n",
    "We'll send out the request for the page using the requests library"
   ]
  },
  {
   "cell_type": "code",
   "execution_count": null,
   "metadata": {
    "collapsed": false
   },
   "outputs": [],
   "source": [
    "import requests\n",
    "\n",
    "#provide the url and set a url variable to hold it\n",
    "url = \"https://en.wikipedia.org/wiki/List_of_United_States_cities_by_crime_rate_(2014)\"\n",
    "\n",
    "#send the request\n",
    "content= requests.get(url)\n",
    "\n"
   ]
  },
  {
   "cell_type": "markdown",
   "metadata": {},
   "source": [
    "#### Sending the source code to our table parser\n",
    "\n",
    "Now that we have the source, we can:\n",
    "\n",
    "\n",
    "convert it to a string format\n",
    "\n",
    "remove newline characters\n",
    "\n",
    "pass on the information to our table reader function that will output a data_table"
   ]
  },
  {
   "cell_type": "code",
   "execution_count": null,
   "metadata": {
    "collapsed": true
   },
   "outputs": [],
   "source": [
    "#get the content, in this case, the HTML source code\n",
    "content_string = content.text.encode('utf-8')\n",
    "\n",
    "# we can clean up the source code and remove special characters from it using the re (regular expression) library\n",
    "content_string = content_string.replace(\"\\n\",\"\")\n",
    "\n",
    "#submit the source code to our table reader\n",
    "data_table=table_reader(content_string)"
   ]
  },
  {
   "cell_type": "markdown",
   "metadata": {},
   "source": [
    "#### Make a pandas DataFrame out of the table data\n",
    "\n",
    "Next, we'll import the data table into pandas similar to how we usually do when importing a list of lists\n",
    "\n",
    "We will create a DataFrame where the first variable is the data within the table(a list of lists containing the values)\n",
    "\n",
    "The second variable is the column information (the first list in our data table variable)"
   ]
  },
  {
   "cell_type": "code",
   "execution_count": null,
   "metadata": {
    "collapsed": true
   },
   "outputs": [],
   "source": [
    "import pandas as pd\n",
    "\n",
    "####send the data_table to a pandas data frame\n",
    "\n",
    "### The column information is stored in the first row of data data_table[0]\n",
    "### The actual cell entries are stored in the second row onward data_table[1:]\n",
    "\n",
    "crime_df = pd.DataFrame(data_table[1:], columns=data_table[0])\n",
    "\n",
    "#Let's look at the first ten entries of the U.S. crime dataframe\n",
    "print crime_df.head(10)"
   ]
  }
 ],
 "metadata": {
  "kernelspec": {
   "display_name": "Python 2",
   "language": "python",
   "name": "python2"
  },
  "language_info": {
   "codemirror_mode": {
    "name": "ipython",
    "version": 2
   },
   "file_extension": ".py",
   "mimetype": "text/x-python",
   "name": "python",
   "nbconvert_exporter": "python",
   "pygments_lexer": "ipython2",
   "version": "2.7.11"
  }
 },
 "nbformat": 4,
 "nbformat_minor": 0
}
