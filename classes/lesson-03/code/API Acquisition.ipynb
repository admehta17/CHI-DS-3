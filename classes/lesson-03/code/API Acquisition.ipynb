{
 "cells": [
  {
   "cell_type": "markdown",
   "metadata": {},
   "source": [
    "#### Using an API - Basics\n",
    "\n",
    "As usual, we have to import all the libraries we'll need for the project. There are two big libraries for parsing an API:\n",
    "The \"requests\" for asking the API for the information we need\n",
    "The lxml library for parsing the (XML formatted) information the API returns"
   ]
  },
  {
   "cell_type": "code",
   "execution_count": null,
   "metadata": {
    "collapsed": true
   },
   "outputs": [],
   "source": [
    "#the requests library allows us to send a request to the API with the specific vaiables and parameters it takes\n",
    "import requests\n",
    "\n",
    "#the lxml library allows us to parse the xml formmated file we'll received after we make our request\n",
    "import lxml.etree as ET"
   ]
  },
  {
   "cell_type": "markdown",
   "metadata": {},
   "source": [
    "#### Sending the API request\n",
    "\n",
    "Let's send a request to API that has our key that we got after registering on the CTA API website: UznMvHN96Q7DpAPu2YtZQgPQS\n",
    "\n",
    "The API has a url to get the current date and time in the system: http://www.ctabustracker.com/bustime/api/v1/gettime\n",
    "\n",
    "According to the documentation, the API url for time takes one parameter: the key, which is our unique code assigned to by the CTA, which serves as like a username.\n",
    "\n",
    "We will send a request to the API using the url and adding our key at the end of it, with ? symbol to indicate it is a varialble"
   ]
  },
  {
   "cell_type": "code",
   "execution_count": null,
   "metadata": {
    "collapsed": true
   },
   "outputs": [],
   "source": [
    "# get the system time from CTA passing along our key in the request\n",
    "content= requests.get(\"http://www.ctabustracker.com/bustime/api/v1/gettime?key=UznMvHN96Q7DpAPu2YtZQgPQS\")    \n",
    "\n",
    "#save the text that was returned into a string\n",
    "content_string = content.text"
   ]
  },
  {
   "cell_type": "markdown",
   "metadata": {},
   "source": [
    "#### Loading the XML to an XML reader\n",
    "\n",
    "Now that we received the information from the API server, and saved it a variable called content_string, we can pass on the information to our XML parser.\n",
    "\n",
    "Let's load the XML into an XML reader and see what the returned content looks like. \n",
    "\n",
    "We should see a bunch of a tags (like in HTML). What's the tag that our desired information (the time) is in between"
   ]
  },
  {
   "cell_type": "code",
   "execution_count": null,
   "metadata": {
    "collapsed": false
   },
   "outputs": [],
   "source": [
    "# let's load in the XML into an XML reader ET.fromstring\n",
    "# We'll save the parsed XML as a variable called \"doc\"\n",
    "doc = ET.fromstring(content_string)\n",
    "\n",
    "#Let's see what the returned content looks like'. We should see a bunch of a tags (like in HTML). What's the tag that our desired information (the time) is in between\n",
    "print ET.tostring(doc,pretty_print=True)\n"
   ]
  },
  {
   "cell_type": "markdown",
   "metadata": {},
   "source": [
    "#### Loading the XML to an XML reader\n",
    "\n",
    "Right now, we have the content , but it's in an XML format. \n",
    "\n",
    "We need to parse the XML and access the information in the tag by traversing the XML tree.\n",
    "\n",
    "We can do that by looking for the tag that contains the time information. The tag that holds the time information is called \"tm\""
   ]
  },
  {
   "cell_type": "code",
   "execution_count": null,
   "metadata": {
    "collapsed": false
   },
   "outputs": [],
   "source": [
    "#let's access the information in between the \"tm\" tags and get the text\n",
    "current_time = doc.find('tm').text\n",
    "\n",
    "#print out the current date and time\n",
    "print current_time"
   ]
  },
  {
   "cell_type": "markdown",
   "metadata": {},
   "source": [
    "#### Acquire Different Kinds of Data\n",
    "\n",
    "Let's try another API feature provided by CTA. Let's get all of the route names of all of the buses.\n",
    "\n",
    "The API url to make that request is: http://www.ctabustracker.com/bustime/api/v1/getroutes\n",
    "\n",
    "We'll pass on our key again, using the ? symbol to indicate that we are starting to pass on a variable in the url\n",
    "\n",
    "Once we make the request, we'll save the XML content to a string"
   ]
  },
  {
   "cell_type": "code",
   "execution_count": null,
   "metadata": {
    "collapsed": true
   },
   "outputs": [],
   "source": [
    "#retreive the routes of all the buses in the CTA\n",
    "content= requests.get(\"http://www.ctabustracker.com/bustime/api/v1/getroutes?key=UznMvHN96Q7DpAPu2YtZQgPQS\") \n",
    "content_string = content.text"
   ]
  },
  {
   "cell_type": "markdown",
   "metadata": {},
   "source": [
    "#### Loading XML and printing the XML tree\n",
    "\n",
    "Pass on the information to an XML parser and save the xml tree as a variable called \"doc\"\n",
    "\n",
    "Let's see what the content looks like.' What tag enclose the route name information? Are there tags within tags?"
   ]
  },
  {
   "cell_type": "code",
   "execution_count": null,
   "metadata": {
    "collapsed": false
   },
   "outputs": [],
   "source": [
    "doc = ET.fromstring(content_string)\n",
    "print content_string"
   ]
  },
  {
   "cell_type": "markdown",
   "metadata": {},
   "source": [
    "#### Retreiving the information between XML tags \n",
    "\n",
    "All of the information about the bus routes including the their route number, route name, and unique id are within the route tags\n",
    "\n",
    "Let's get a list of all of the information between the \"route\" tags that you saw when you printed the content_string."
   ]
  },
  {
   "cell_type": "code",
   "execution_count": null,
   "metadata": {
    "collapsed": false
   },
   "outputs": [],
   "source": [
    "routes = doc.findall('route')\n",
    "#if we printed the route information, we would get a list of XML containers because there are tags within the 'route' tags\n",
    "print routes"
   ]
  },
  {
   "cell_type": "markdown",
   "metadata": {},
   "source": [
    "We can see how many routes there are by printing the length of the list holding all of the routes and their subtags\n"
   ]
  },
  {
   "cell_type": "code",
   "execution_count": null,
   "metadata": {
    "collapsed": false
   },
   "outputs": [],
   "source": [
    "print len(routes)"
   ]
  },
  {
   "cell_type": "markdown",
   "metadata": {},
   "source": [
    "We want to access the route names contained within the route tags, so we'll make a new list to hold the specific route numbers called routenames"
   ]
  },
  {
   "cell_type": "code",
   "execution_count": null,
   "metadata": {
    "collapsed": true
   },
   "outputs": [],
   "source": [
    "routenames = []"
   ]
  },
  {
   "cell_type": "markdown",
   "metadata": {},
   "source": [
    "For every route in the original list of routes, we'll add that specific route number to our route name list"
   ]
  },
  {
   "cell_type": "code",
   "execution_count": null,
   "metadata": {
    "collapsed": false
   },
   "outputs": [],
   "source": [
    "#For every route tag in the XML tree\n",
    "for route in routes:\n",
    "    #look within that route tag and acces the 'rtnm' tag. Save the result to a variable called route_result\n",
    "    route_result = route.find('rtnm').text\n",
    "    \n",
    "    #append the route to the list of routenames we made\n",
    "    routenames.append(route_result)\n",
    "print routenames"
   ]
  },
  {
   "cell_type": "markdown",
   "metadata": {},
   "source": [
    "#### Try it yourself: Get the route numbers from the XML tree\n",
    "\n",
    "Go back to the xml tree returned by the request. See what tags hold the route numbers.\n",
    "\n",
    "Make an empty list called full_route_list and write a \"for loop\" to go through all of the routes and append each route number to that full_route_list variable "
   ]
  },
  {
   "cell_type": "code",
   "execution_count": null,
   "metadata": {
    "collapsed": true
   },
   "outputs": [],
   "source": []
  },
  {
   "cell_type": "markdown",
   "metadata": {},
   "source": [
    "#### Getting the directions for each route\n",
    "\n",
    "We can now use the full_route_list to take advantage of another API feature.\n",
    "\n",
    "The CTA API allows you to get the stops for a specific route. However, you need to know the route directions the bus goes in (either Eastbound and Westbound or Northbound and Southbound).\n",
    "\n",
    "We'll eventually get all of the stops for every bus, but first let's get all of the directions."
   ]
  },
  {
   "cell_type": "markdown",
   "metadata": {},
   "source": [
    "#### How to store multiple directions for each route\n",
    "\n",
    "Let's start by importing a library that allows us to have special type of dictionary called a defaultdict\n",
    "\n",
    "A default dictionary allows you store values associated with a unique key (i.e., the bus, and in this case, we're going to store the directions as a list in the dictionary\n",
    "\n",
    "The default default dictionary allows us to set the default data structure to be a list, so we can immediately start appending the routes to the dictionary instead of having to create the list for each key."
   ]
  },
  {
   "cell_type": "code",
   "execution_count": null,
   "metadata": {
    "collapsed": true
   },
   "outputs": [],
   "source": [
    "#this will import a type of data structure called a default_dict, where when you first reference a key in the dictionary, it gives it a default type.\n",
    "from collections import defaultdict\n",
    "\n",
    "#We want to make a dictionary that has the route number as the key, and stores the directions in a list\n",
    "#we'll make a default dictionary that holds everything in a list\n",
    "route_directions = defaultdict(list)"
   ]
  },
  {
   "cell_type": "markdown",
   "metadata": {},
   "source": [
    "#### Now, let's go through every route number we have and ask the API to return the directions, and we'll go through the XML result and parse out the information like before."
   ]
  },
  {
   "cell_type": "code",
   "execution_count": null,
   "metadata": {
    "collapsed": false
   },
   "outputs": [],
   "source": [
    "#for every route number in our list of route numers,\n",
    "for route in full_route_list:\n",
    "\n",
    "    #make a request to the API to get the bus routes directions for a specific route\n",
    "\tcontent= requests.get(\"http://www.ctabustracker.com/bustime/api/v1/getdirections?key=UznMvHN96Q7DpAPu2YtZQgPQS&rt=%s\" % route) \n",
    "\t\n",
    "    #save the XML results into a variable called content_string\n",
    "    content_string = content.text\n",
    "\t\n",
    "    ##we'll parse the results, which is an XML file holding the route directions in between the \"dir\" tags\n",
    "\n",
    "\tdoc = ET.fromstring(content_string)\n",
    "\tdirections = doc.findall('dir')\n",
    "\t\n",
    "\n",
    "\t# for every single direct\n",
    "\tfor direction in directions:\n",
    "\t\troute_directions[route].append(direction.text)"
   ]
  },
  {
   "cell_type": "markdown",
   "metadata": {},
   "source": [
    "#### Use the route number information and the bus number to get the bus stops from the API\n",
    "\n",
    "We now have a dictionary of all of the directions for every bus number.\n",
    "\n",
    "Let's get the stops for each bus route and save those to a different dictionary called busstops\n",
    "\n",
    "*Note that this collection process could take a little time to finish. Wait for the asterisk to disappear next to the code line"
   ]
  },
  {
   "cell_type": "code",
   "execution_count": null,
   "metadata": {
    "collapsed": false
   },
   "outputs": [],
   "source": [
    "#make a dictionary whose default value is a list for all keys in it.\n",
    "busstops = defaultdict(list)\n",
    "\n",
    "#every bus number and directions associated with it (which we stored)\n",
    "for busnumber, directions in route_directions.items():\n",
    "        #for every direction in our list of directions for that bus\n",
    "        for direction in directions:\n",
    "            \n",
    "            #send an api request to get the bus stops for the bus and direction\n",
    "            content= requests.get(\"http://www.ctabustracker.com/bustime/api/v1/getstops?key=UznMvHN96Q7DpAPu2YtZQgPQS&rt=%s&dir=%s\" %(busnumber,direction))\n",
    "           \n",
    "            #save the results from the API \n",
    "            content_string = content.text\n",
    "            \n",
    "            #pass on the results to our XML  reader/parser\n",
    "            doc = ET.fromstring(content_string)\n",
    "            \n",
    "            #make a list with all of the information found in all of the tags named \"stop\"\n",
    "            stops = doc.findall('stop')\n",
    "            \n",
    "            #for every stop within the list of stops\n",
    "            for stop in stops:\n",
    "                #append the stop id # to a list of bus ids for that specific bus\n",
    "                busstops[busnumber].append(stop.find('stpid').text)\n",
    "            \n",
    "            "
   ]
  },
  {
   "cell_type": "markdown",
   "metadata": {
    "collapsed": true
   },
   "source": [
    "#### Accessing the stop numbers for each bus\n",
    "Now, for every bus, we know the specific stop numbers it stops at in its routes"
   ]
  },
  {
   "cell_type": "code",
   "execution_count": null,
   "metadata": {
    "collapsed": false
   },
   "outputs": [],
   "source": [
    "print busstops['77']"
   ]
  },
  {
   "cell_type": "markdown",
   "metadata": {},
   "source": [
    "##### Make a dataframe to hold data on how much overlap two busses have\n",
    "\n",
    "We'll import pandas and make a data frame where the bus number is both the index and the columns.\n",
    "\n",
    "This dataframe will hold information regarding how many stops each bus (rows) has with every other bus (columns)."
   ]
  },
  {
   "cell_type": "code",
   "execution_count": null,
   "metadata": {
    "collapsed": false
   },
   "outputs": [],
   "source": [
    "import pandas as pd\n",
    "\n",
    "#make a dataframe with the bus numbers are the indices and the column names\n",
    "#it is a matrix representing how many busstops each bus has in common with every bus\n",
    "busnetwork = pd.DataFrame(0, index=busstops.keys(), columns=busstops.keys())\n"
   ]
  },
  {
   "cell_type": "markdown",
   "metadata": {},
   "source": [
    "This code uses a library called itertools that can create a list of every possible pair-wise comparison of elements within a list (bus1 vs. bus2, bus1 vs. bus3, bus2 vs. bus3, etc.)\n",
    "\n",
    "We can run it to get a list of the pariwise comparisons and then see how many stops overlap between each pair, and update our dataframe in the cells where both buses line up:\n",
    "bus1 row and bus2 column\n",
    "bus2 row and bus1 column\n",
    "\n",
    "\n",
    "When you print out the busnetwork, the row will correspond to a particular bus, and the column will contain how many stops that bus overlaps with the bus corresponding to the column"
   ]
  },
  {
   "cell_type": "code",
   "execution_count": null,
   "metadata": {
    "collapsed": false,
    "scrolled": false
   },
   "outputs": [],
   "source": [
    "import itertools\n",
    "import numpy\n",
    "\n",
    "pairwise_combinations = itertools.combinations(busstops,2)\n",
    "for stop1, stop2 in pairwise_combinations:\n",
    "    overlap = len(set(busstops[stop1]) & set(busstops[stop2]))\n",
    "    overlap = int(overlap)\n",
    "    busnetwork.set_value(stop1, stop2, overlap)\n",
    "    busnetwork.set_value(stop2, stop1, overlap)\n",
    "\n",
    "print busnetwork.head(10)"
   ]
  },
  {
   "cell_type": "markdown",
   "metadata": {
    "collapsed": true
   },
   "source": [
    "#### Can you determine which 10 buses have the most overlapping stops with other buses?\n",
    "\n",
    "Hint: Think about what each row represents and how to determine the TOTAL overlap for that bus\n",
    "\n"
   ]
  },
  {
   "cell_type": "code",
   "execution_count": null,
   "metadata": {
    "collapsed": false
   },
   "outputs": [],
   "source": []
  },
  {
   "cell_type": "markdown",
   "metadata": {},
   "source": [
    "#### Advanced Analysis Options - Find the most well connected buses\n",
    "\n",
    "Because our dataframe contains information whether an entitiy (i.e., a bus) has any relation to any other entity (the other buses), this data structure is called a \"network\"\n",
    "\n",
    "This network can be loaded into the networkx package, and the centrality of each bus can be calculated\n",
    "\n",
    "Centrality represents how much opportunity a node has in a network to access other nodes. It's analogous to being \"well connected\" to the population\n",
    "\n",
    "There are three common centrality measures used\n",
    "\n",
    "Degree Centrality: How many direct connections you have with other nodes (buses)\n",
    "\n",
    "Closeness Cenrality: How quickly can you access every other node on average by hopping from one node to another using the shortest path\n",
    "\n",
    "PageRank Centrality: How influential are the nodes you are connected to\n",
    "\n",
    "The code below imports the data into the networkx package and then makes dataframes containing the centrality for each bus number\n",
    "\n",
    "It then merges those dataframes together.\n",
    "\n",
    "Which bus looks like it is able to access every other bus the fastest?"
   ]
  },
  {
   "cell_type": "code",
   "execution_count": null,
   "metadata": {
    "collapsed": false
   },
   "outputs": [],
   "source": [
    "import networkx as nx\n",
    "graph = nx.from_numpy_matrix(busnetwork.values)\n",
    "mapping=dict(zip(range(len(busnetwork.index)),busnetwork.index))           \n",
    "graph = nx.relabel_nodes(graph,mapping)\n",
    "degree_centrality = nx.degree_centrality(graph)\n",
    "pagerank_centrality = nx.pagerank_numpy(graph)\n",
    "closeness_centrality = nx.closeness_centrality(graph)\n",
    "\n",
    "degree_df = pd.DataFrame(degree_centrality.items(),columns=[\"BusNumber\",\"DegreeCentrality\"])\n",
    "closeness_df = pd.DataFrame(closeness_centrality.items(),columns=[\"BusNumber\",\"ClosenessCentrality\"])\n",
    "pagerank_df = pd.DataFrame(pagerank_centrality.items(),columns=[\"BusNumber\",\"PageRankCentrality\"])\n",
    "\n",
    "centrality_df = pd.merge(pd.merge(degree_df, closeness_df, on='BusNumber'),pagerank_df,on=\"BusNumber\")\n",
    "\n",
    "\n",
    "print centrality_df.sort_values(by=\"ClosenessCentrality\",ascending=False).head(10)\n"
   ]
  }
 ],
 "metadata": {
  "kernelspec": {
   "display_name": "Python 2",
   "language": "python",
   "name": "python2"
  },
  "language_info": {
   "codemirror_mode": {
    "name": "ipython",
    "version": 2
   },
   "file_extension": ".py",
   "mimetype": "text/x-python",
   "name": "python",
   "nbconvert_exporter": "python",
   "pygments_lexer": "ipython2",
   "version": "2.7.11"
  }
 },
 "nbformat": 4,
 "nbformat_minor": 0
}
