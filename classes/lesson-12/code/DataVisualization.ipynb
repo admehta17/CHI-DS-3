{
 "cells": [
  {
   "cell_type": "markdown",
   "metadata": {},
   "source": [
    "# Types of Visualizations"
   ]
  },
  {
   "cell_type": "markdown",
   "metadata": {},
   "source": [
    "- Histograms\n",
    "\n",
    "\n",
    "- Bar Charts\n",
    "\n",
    "- Scatterplots\n",
    "\n",
    "- Time Series\n",
    "\n",
    "- Heat Maps\n",
    "\n",
    "There are many different pyhon libraries for creating plots.\n",
    "\n",
    "We often use matplotlib as our library.\n",
    "\n",
    "However, other popular choices are:\n",
    "\n",
    "- Seaborn\n",
    "- ggplot2\n",
    "- prettyplotlib\n",
    "\n",
    "We're going to focus on Seaborn today"
   ]
  },
  {
   "cell_type": "code",
   "execution_count": null,
   "metadata": {
    "collapsed": true
   },
   "outputs": [],
   "source": [
    "# Before we begin\n",
    "\n",
    "Make sure you have the Seaborn package installed.\n",
    "\n",
    "Can you run the following line?"
   ]
  },
  {
   "cell_type": "code",
   "execution_count": null,
   "metadata": {
    "collapsed": true
   },
   "outputs": [],
   "source": [
    "import seaborn as sns"
   ]
  },
  {
   "cell_type": "markdown",
   "metadata": {},
   "source": [
    "If you get an error, go to the 'Anaconda Navigator' and look under \"Environments\".\n",
    "\n",
    "You can add it from there."
   ]
  },
  {
   "cell_type": "markdown",
   "metadata": {
    "collapsed": true
   },
   "source": [
    "# Histograms \n",
    "\n",
    "Histograms allow you to summarize many statistics of data in one simple chart.\n",
    "\n",
    "Statistics captured in a histogram:\n",
    " - The Average\n",
    " - The Mode(s)\n",
    " - Variability \n",
    " - Skew\n",
    "\n",
    "Histograms are similar to scatterplots in that they plot one variable against another:\n",
    " - X-axis: Response Value\n",
    " - Y-axis: Fequency of that response"
   ]
  },
  {
   "cell_type": "markdown",
   "metadata": {},
   "source": [
    "## Histogram Example:\n",
    "\n"
   ]
  },
  {
   "cell_type": "markdown",
   "metadata": {},
   "source": [
    "We'll first look at creating histograms the way we've done previously.\n",
    "\n",
    "First, let's import the packages we need:"
   ]
  },
  {
   "cell_type": "code",
   "execution_count": null,
   "metadata": {
    "collapsed": true
   },
   "outputs": [],
   "source": [
    "import matplotlib.pyplot as plt\n",
    "% matplotlib inline\n",
    "import numpy as np\n",
    "import pandas as pd"
   ]
  },
  {
   "cell_type": "markdown",
   "metadata": {},
   "source": [
    "Next, we will simply create a pandas Series (or access a column from our Data Frame).\n",
    "\n",
    "For this example, we'll simulate creating a histogram for people's heights (in inches)\n",
    "\n",
    "This series is a collection of 1000 random values drawn from a normal distribution that has a mean of 67 and standard deviation of 3."
   ]
  },
  {
   "cell_type": "code",
   "execution_count": null,
   "metadata": {
    "collapsed": true
   },
   "outputs": [],
   "source": [
    "x = np.random.normal(67,3,1000)\n",
    "height = pd.Series(x)"
   ]
  },
  {
   "cell_type": "markdown",
   "metadata": {},
   "source": [
    "Now, to create a histogram, we'll use the hist() function for our Series"
   ]
  },
  {
   "cell_type": "code",
   "execution_count": null,
   "metadata": {
    "collapsed": false,
    "scrolled": true
   },
   "outputs": [],
   "source": [
    "height.hist()"
   ]
  },
  {
   "cell_type": "markdown",
   "metadata": {},
   "source": [
    "Notice how the histogram shows that heights are mainly concetrated around the 67 inch marks, with less and less concentration as you move away from the center"
   ]
  },
  {
   "cell_type": "markdown",
   "metadata": {},
   "source": [
    "We can create a histogram using Seaborn with the following command"
   ]
  },
  {
   "cell_type": "code",
   "execution_count": null,
   "metadata": {
    "collapsed": false,
    "scrolled": false
   },
   "outputs": [],
   "source": [
    "import seaborn as sns\n",
    "sns.distplot(height,kde = False)"
   ]
  },
  {
   "cell_type": "markdown",
   "metadata": {},
   "source": [
    "What if you want the histogram more concentrated on where the data are. That is, you only want to see the value that corresponds to where the data seem to begin and end.\n",
    "\n",
    "In Seaborn, we can easily change the x and y axis to start and stop."
   ]
  },
  {
   "cell_type": "code",
   "execution_count": null,
   "metadata": {
    "collapsed": false,
    "scrolled": false
   },
   "outputs": [],
   "source": [
    "histogram = sns.distplot(height,kde = False)\n",
    "\n",
    "#The code for setting the axes\n",
    "axes = histogram.axes\n",
    "axes.set_ylim(0,110)\n",
    "axes.set_xlim(58,78)"
   ]
  },
  {
   "cell_type": "markdown",
   "metadata": {},
   "source": [
    "Additionally, we can set titles and labels to the figure."
   ]
  },
  {
   "cell_type": "code",
   "execution_count": null,
   "metadata": {
    "collapsed": false
   },
   "outputs": [],
   "source": [
    "histogram = sns.distplot(height,kde = False)\n",
    "\n",
    "\n",
    "axes = histogram.axes\n",
    "\n",
    "axes.set_title(\"Histogram of Heights\")\n",
    "axes.set_ylabel(\"Frequency\")\n",
    "axes.set_xlabel(\"Height (in inches)\")"
   ]
  },
  {
   "cell_type": "code",
   "execution_count": null,
   "metadata": {
    "collapsed": true
   },
   "outputs": [],
   "source": [
    "We can change the background to all white instead of gray and with gridlines"
   ]
  },
  {
   "cell_type": "code",
   "execution_count": null,
   "metadata": {
    "collapsed": false,
    "scrolled": true
   },
   "outputs": [],
   "source": [
    "histogram = sns.distplot(height,kde = False)\n",
    "\n",
    "sns.set_style(\"white\")"
   ]
  },
  {
   "cell_type": "markdown",
   "metadata": {},
   "source": [
    "Here is an example of using a dark figure style"
   ]
  },
  {
   "cell_type": "code",
   "execution_count": null,
   "metadata": {
    "collapsed": false
   },
   "outputs": [],
   "source": [
    "histogram = sns.distplot(height,kde = False)\n",
    "sns.set_style(\"dark\")"
   ]
  },
  {
   "cell_type": "markdown",
   "metadata": {},
   "source": [
    "## Problem with histograms"
   ]
  },
  {
   "cell_type": "markdown",
   "metadata": {},
   "source": [
    "Histogram are effective ways of demonstrating where your data are concetrated.\n",
    "\n",
    "However, they are somewhat of a subjective representation of your data because their shape changes drastically depending on how you choose the bins (or grouping on the x-axis)"
   ]
  },
  {
   "cell_type": "markdown",
   "metadata": {},
   "source": [
    "Below, we will create a bi-modal distribution of 40 cases, where one mode occurs at x=0 and another occurs at x=5.\n",
    "\n",
    "We'll choose to make 10 evenly spaces bins in the range of -5 to 10\n"
   ]
  },
  {
   "cell_type": "code",
   "execution_count": null,
   "metadata": {
    "collapsed": false,
    "scrolled": true
   },
   "outputs": [],
   "source": [
    "N = 20\n",
    "X = np.hstack((np.random.normal(0, 1, 2 * N),\n",
    "                    np.random.normal(5, 1, 4 * N)))\n",
    "\n",
    "bins = np.linspace(-5, 10, 10)\n",
    "# histogram 1\n",
    "sns.distplot(X, bins=bins, kde=False)"
   ]
  },
  {
   "cell_type": "markdown",
   "metadata": {},
   "source": [
    "Now, let's try it with 5 evenly spaced bins"
   ]
  },
  {
   "cell_type": "code",
   "execution_count": null,
   "metadata": {
    "collapsed": false,
    "scrolled": true
   },
   "outputs": [],
   "source": [
    "bins = np.linspace(-5, 10, 5)\n",
    "# histogram 2\n",
    "sns.distplot(X, bins=bins, kde=False)"
   ]
  },
  {
   "cell_type": "markdown",
   "metadata": {},
   "source": [
    "Now let's try it with 7 evenly spaced bins"
   ]
  },
  {
   "cell_type": "code",
   "execution_count": null,
   "metadata": {
    "collapsed": false,
    "scrolled": false
   },
   "outputs": [],
   "source": [
    "bins = np.linspace(-5, 10, 7)\n",
    "\n",
    "# histogram 3\n",
    "sns.distplot(X, bins=bins, kde=False)"
   ]
  },
  {
   "cell_type": "markdown",
   "metadata": {},
   "source": [
    "The problem arises because we are cutting our dta into groups instead of leaving it as continuous.\n",
    "\n",
    "Rather, we should think of the probability of our data falling into a certain area.\n",
    "\n",
    "We can use a 'Kernal Density Estimator' to plot the distribution in a continuous way"
   ]
  },
  {
   "cell_type": "code",
   "execution_count": null,
   "metadata": {
    "collapsed": false,
    "scrolled": false
   },
   "outputs": [],
   "source": [
    "sns.kdeplot(X, shade=True);"
   ]
  },
  {
   "cell_type": "markdown",
   "metadata": {},
   "source": [
    "## Plot Two or More Histograms"
   ]
  },
  {
   "cell_type": "markdown",
   "metadata": {},
   "source": [
    "It's also possible to represent two different groups with histograms.\n",
    "\n",
    "To plot the histograms for two different groups, we are assuming that the data for each group are in different columns (e.g, one column has male heights and the other has female heights).\n",
    "\n",
    "If your heights are in one column and your genders in another, remember that you can create two series of data by doing the following\n",
    "\n",
    "maleheights = df[(df.gender == 'male')]['height']\n",
    "femaleheights = df[(df.gender == 'female')]['height']\n",
    "\n",
    "Plotting two groups involves running the kdeplot command twice and setting it to two different variables"
   ]
  },
  {
   "cell_type": "code",
   "execution_count": null,
   "metadata": {
    "collapsed": false
   },
   "outputs": [],
   "source": [
    "maleheights=np.random.normal(70,3,100)\n",
    "femaleheights=np.random.normal(64,3,100)\n",
    "hist1 = sns.kdeplot(maleheights, shade=True, color=\"blue\")\n",
    "hist2 = sns.kdeplot(femaleheights, shade=True,color=\"pink\")\n",
    "#you can hide the y-axis like this \n",
    "hist1.get_yaxis().set_visible(False)"
   ]
  },
  {
   "cell_type": "markdown",
   "metadata": {
    "collapsed": true
   },
   "source": [
    "# Two Histograms Against One Another\n",
    "\n",
    "A histogram will tell you where are the data conentrated.\n",
    "\n",
    "You can create a histogram along to axes, by seeing where are the data most likely to intersect\n",
    "\n",
    "For example, consider the bus stop data we collected in the API Scraping Lesson.\n",
    "\n",
    "Using the API, we could get a list of all of the latitude and longitude coordinates for every bus stop in the city.\n",
    "\n",
    "This data has already been saved in a csv with the bus route and where every one of its stops is located"
   ]
  },
  {
   "cell_type": "code",
   "execution_count": null,
   "metadata": {
    "collapsed": false,
    "scrolled": true
   },
   "outputs": [],
   "source": [
    "import pandas as pd\n",
    "import seaborn as sns\n",
    "bus_stops = pd.read_csv(\"busstops.csv\")\n",
    "bus_stops.sample(10)"
   ]
  },
  {
   "cell_type": "markdown",
   "metadata": {},
   "source": [
    "If we plotted a histogram of just the Lattitude, we would see the lattitude where most bus stops tend to be"
   ]
  },
  {
   "cell_type": "code",
   "execution_count": null,
   "metadata": {
    "collapsed": false
   },
   "outputs": [],
   "source": [
    "sns.kdeplot(bus_stops['Lat'], shade=True,color=\"blue\")"
   ]
  },
  {
   "cell_type": "markdown",
   "metadata": {},
   "source": [
    "LIkewise, if we plotted the histogram of just the longitude, we could see what longitudes have the highest concentration of buses"
   ]
  },
  {
   "cell_type": "code",
   "execution_count": null,
   "metadata": {
    "collapsed": false
   },
   "outputs": [],
   "source": [
    "sns.kdeplot(bus_stops['Lon'], shade=True,color=\"green\")"
   ]
  },
  {
   "cell_type": "markdown",
   "metadata": {},
   "source": [
    "However, if we wanted to represent where in 2-Dimensional space the buses tend to be, we could use a joint plot, where we indicate:\n",
    "\n",
    "- What are the two variables we want plotted against one another\n",
    "- What kind of plot do we want to make\n",
    "    \n",
    "Here, we are plotting the Longitude against the Latitude, and making a kdeplot out of it.\n",
    "\n",
    "The cmap indicates what color scheme we should use for high and low values. \"Coolwarm\" makes low values blue and high values red.\n",
    "\n",
    "\"Shade = True\" means that we want the histograms shaded"
   ]
  },
  {
   "cell_type": "code",
   "execution_count": null,
   "metadata": {
    "collapsed": false
   },
   "outputs": [],
   "source": [
    "g = sns.JointGrid(x=\"Lon\", y=\"Lat\", data=bus_stops)\n",
    "\n",
    "g = g.plot_joint(sns.kdeplot, cmap=\"coolwarm\", shade=True)"
   ]
  },
  {
   "cell_type": "markdown",
   "metadata": {},
   "source": [
    "## Color Maps\n",
    "\n",
    "http://matplotlib.org/users/colormaps.html\n",
    "    "
   ]
  },
  {
   "cell_type": "markdown",
   "metadata": {},
   "source": [
    "# Violin Plots\n",
    "\n",
    "Violin plots, like histograms convey a lot of statistics in a single figure.\n",
    "\n",
    "Violin plots are best used when you have many groups with overlapping values, whose central tendency you want to compare"
   ]
  },
  {
   "cell_type": "code",
   "execution_count": null,
   "metadata": {
    "collapsed": true
   },
   "outputs": [],
   "source": [
    "#np.random.normal(mean,std_deviation,samplesize)\n",
    "salaries=pd.DataFrame({'HR':np.random.normal(90000,5000,100),\n",
    "                   'Management':np.random.normal(90000,5000,100),\n",
    "                   'Accounting':np.random.normal(70000,5000,100)})"
   ]
  },
  {
   "cell_type": "code",
   "execution_count": null,
   "metadata": {
    "collapsed": false
   },
   "outputs": [],
   "source": [
    "sns.set_style(\"white\")\n",
    "hist1 = sns.kdeplot(salaries['HR'], shade=True, color=\"blue\")\n",
    "hist2 = sns.kdeplot(salaries['Management'], shade=True,color=\"green\")\n",
    "hist3 = sns.kdeplot(salaries['Accounting'], shade=True,color=\"magenta\")"
   ]
  },
  {
   "cell_type": "markdown",
   "metadata": {},
   "source": [
    "A box plot is generally preferred when you are comparing the centra tendency of many groups, and overlaing them would be difficult to visualize"
   ]
  },
  {
   "cell_type": "code",
   "execution_count": null,
   "metadata": {
    "collapsed": false,
    "scrolled": false
   },
   "outputs": [],
   "source": [
    "sns.set_style(\"whitegrid\")\n",
    "sns.boxplot(data=salaries, palette=\"deep\")"
   ]
  },
  {
   "cell_type": "markdown",
   "metadata": {},
   "source": [
    "Although box plots can convey the mean, interquartile range, confidence interval, and outliers, they do not convey the distribution of your data.\n",
    "\n",
    "A violin plot can provide distribution information as well as information about the mean and variability."
   ]
  },
  {
   "cell_type": "code",
   "execution_count": null,
   "metadata": {
    "collapsed": false,
    "scrolled": true
   },
   "outputs": [],
   "source": [
    "sns.set_style(\"white\")\n",
    "sns.violinplot(data=salaries)"
   ]
  },
  {
   "cell_type": "markdown",
   "metadata": {},
   "source": [
    "# Scatter Plots"
   ]
  },
  {
   "cell_type": "markdown",
   "metadata": {},
   "source": [
    "When plotting the data against two continuous variables, scatterplots tend to be more freuqnetly used"
   ]
  },
  {
   "cell_type": "markdown",
   "metadata": {},
   "source": [
    "Let's read in data collected from the 1984 Olympics that contains information about how the women from each country performed in various running events"
   ]
  },
  {
   "cell_type": "code",
   "execution_count": null,
   "metadata": {
    "collapsed": false,
    "scrolled": true
   },
   "outputs": [],
   "source": [
    "olympics = pd.read_csv(\"olympicperformance.csv\")\n",
    "print olympics.head(10)"
   ]
  },
  {
   "cell_type": "markdown",
   "metadata": {},
   "source": [
    "If we wanted to visualize how one variable related to another, we would use the lmplot() command to indicate we want a scatterplot"
   ]
  },
  {
   "cell_type": "code",
   "execution_count": null,
   "metadata": {
    "collapsed": false
   },
   "outputs": [],
   "source": [
    "sns.set(color_codes=True)\n",
    "g = sns.lmplot(x=\"m100\", y=\"m400\", data=olympics)"
   ]
  },
  {
   "cell_type": "markdown",
   "metadata": {},
   "source": [
    "By default, the scatterplot tries to fit a regression line through the data and plots the bootstrapped 95% confidence interval for each point in the line."
   ]
  },
  {
   "cell_type": "markdown",
   "metadata": {},
   "source": [
    "We have many options, such as changing the color and the point marker"
   ]
  },
  {
   "cell_type": "code",
   "execution_count": null,
   "metadata": {
    "collapsed": false
   },
   "outputs": [],
   "source": [
    "sns.set(color_codes=True)\n",
    "g = sns.regplot(x=\"m100\", y=\"Marathon\", data=olympics, marker=\"+\", color=\"g\")"
   ]
  },
  {
   "cell_type": "markdown",
   "metadata": {},
   "source": [
    "## Plotting Interactions"
   ]
  },
  {
   "cell_type": "markdown",
   "metadata": {},
   "source": [
    "We might have data that we want to show has an interaction.\n",
    "\n",
    "Remember, an interaction is when the relationship (slope) between two variables (X and Y) differs depending on a third variable.\n",
    "\n",
    "The following data show an interaction between spiciness of food and preference for the food. The relationship between spiciness and perference changes depending on whether it is a hot or cold day."
   ]
  },
  {
   "cell_type": "code",
   "execution_count": null,
   "metadata": {
    "collapsed": false
   },
   "outputs": [],
   "source": [
    "spicepreference = pd.read_csv(\"spicepreference.csv\")\n",
    "\n",
    "g = sns.lmplot(x=\"Spiciness\", y=\"Preference\", data=spicepreference)\n",
    "g.set(ylim=(0, None),xlim=(0, None))"
   ]
  },
  {
   "cell_type": "code",
   "execution_count": null,
   "metadata": {
    "collapsed": false
   },
   "outputs": [],
   "source": [
    "g = sns.lmplot(x=\"Spiciness\", y=\"Preference\", hue=\"Weather\", data=spicepreference)\n",
    "g.set(ylim=(0, None),xlim=(0, None))"
   ]
  },
  {
   "cell_type": "markdown",
   "metadata": {},
   "source": [
    "# Plot Clusters"
   ]
  },
  {
   "cell_type": "code",
   "execution_count": null,
   "metadata": {
    "collapsed": false,
    "scrolled": true
   },
   "outputs": [],
   "source": [
    "pizza = pd.read_csv(\"pizza.csv\",index_col=0)\n",
    "pizza"
   ]
  },
  {
   "cell_type": "code",
   "execution_count": null,
   "metadata": {
    "collapsed": false
   },
   "outputs": [],
   "source": [
    "g = sns.clustermap(pizza)"
   ]
  },
  {
   "cell_type": "markdown",
   "metadata": {},
   "source": [
    "## Plotting Clusters"
   ]
  },
  {
   "cell_type": "code",
   "execution_count": null,
   "metadata": {
    "collapsed": false
   },
   "outputs": [],
   "source": [
    "from sklearn.cluster import KMeans\n",
    "k_means = KMeans(init='k-means++', n_clusters=3, n_init=10)\n",
    "k_means.fit(pizza)\n",
    "k_means_labels = k_means.labels_"
   ]
  },
  {
   "cell_type": "code",
   "execution_count": null,
   "metadata": {
    "collapsed": false
   },
   "outputs": [],
   "source": [
    "k_means_labels"
   ]
  },
  {
   "cell_type": "code",
   "execution_count": null,
   "metadata": {
    "collapsed": false
   },
   "outputs": [],
   "source": [
    "clusters = pd.DataFrame(k_means_labels,index=pizza.index,columns=[\"Cluster\"])\n",
    "pizza_with_cluster = pd.concat([pizza, clusters], axis=1)"
   ]
  },
  {
   "cell_type": "code",
   "execution_count": null,
   "metadata": {
    "collapsed": false
   },
   "outputs": [],
   "source": [
    "g = sns.lmplot(x=\"Spicy_Italian\", y=\"Mediterranean\", hue=\"Cluster\", \n",
    "               fit_reg=False, \n",
    "               data=pizza_with_cluster)"
   ]
  },
  {
   "cell_type": "markdown",
   "metadata": {},
   "source": [
    "# Time Series"
   ]
  },
  {
   "cell_type": "code",
   "execution_count": null,
   "metadata": {
    "collapsed": false
   },
   "outputs": [],
   "source": [
    "def make_number(content):\n",
    "    cleaned = content.replace(\"$\",\"\").replace(\",\",\"\")\n",
    "    try:\n",
    "        return float(cleaned)\n",
    "    except:\n",
    "        return None\n",
    "dowjones = pd.read_csv(\"dow_jones_index.csv\")\n",
    "dowjones['date'] = pd.to_datetime(dowjones['date'])\n",
    "dowjones['close'] = dowjones['close'].apply(make_number)"
   ]
  },
  {
   "cell_type": "code",
   "execution_count": null,
   "metadata": {
    "collapsed": true
   },
   "outputs": [],
   "source": [
    "dowjones['date_delta'] = (dowjones['date'] - dowjones['date'].min())  / np.timedelta64(1,'D')"
   ]
  },
  {
   "cell_type": "code",
   "execution_count": null,
   "metadata": {
    "collapsed": false
   },
   "outputs": [],
   "source": [
    "from scipy.stats import sem  \n",
    "mean_close = dowjones.groupby(\"date_delta\")['close'].mean().values\n",
    "sem_close = dowjones.groupby(\"date_delta\")['close'].apply(sem).mul(1).values\n",
    "years = dowjones.date_delta.unique()\n"
   ]
  },
  {
   "cell_type": "code",
   "execution_count": null,
   "metadata": {
    "collapsed": false
   },
   "outputs": [],
   "source": [
    "plt.figure(figsize=(8, 6)) \n",
    "\n",
    "\n",
    "plt.fill_between(years, mean_close - sem_close,  mean_close + sem_close, color=\"#3F5D7D\")  \n",
    "plt.plot(years, mean_close, color=\"white\", lw=2)  \n",
    "\n",
    "plt.ylim(20, 80)  \n",
    "plt.title(\"Dow Jones by Day\", fontsize=22) \n",
    "plt.ylabel(\"Closing Price\", fontsize=16)  \n",
    "plt.xlabel(\"Day\", fontsize=10)  \n",
    "\n",
    "\n"
   ]
  },
  {
   "cell_type": "markdown",
   "metadata": {},
   "source": [
    "# HeatMaps"
   ]
  },
  {
   "cell_type": "code",
   "execution_count": null,
   "metadata": {
    "collapsed": false,
    "scrolled": true
   },
   "outputs": [],
   "source": [
    "olympics = pd.read_csv(\"olympicperformance.csv\")\n",
    "print olympics.head(10)"
   ]
  },
  {
   "cell_type": "code",
   "execution_count": null,
   "metadata": {
    "collapsed": false,
    "scrolled": true
   },
   "outputs": [],
   "source": [
    "correlations = olympics.corr()\n",
    "print correlations"
   ]
  },
  {
   "cell_type": "code",
   "execution_count": null,
   "metadata": {
    "collapsed": false,
    "scrolled": true
   },
   "outputs": [],
   "source": [
    "ax = sns.heatmap(correlations,square=True)"
   ]
  },
  {
   "cell_type": "code",
   "execution_count": null,
   "metadata": {
    "collapsed": false,
    "scrolled": true
   },
   "outputs": [],
   "source": [
    "import numpy as np\n",
    "sns.set_style(\"white\")\n",
    "\n",
    "mask = np.zeros_like(correlations)\n",
    "mask[np.triu_indices_from(correlations)] = True\n",
    "ax = sns.heatmap(correlations, mask=mask, square=True)"
   ]
  },
  {
   "cell_type": "code",
   "execution_count": null,
   "metadata": {
    "collapsed": false,
    "scrolled": true
   },
   "outputs": [],
   "source": [
    "from sklearn.neighbors import KNeighborsClassifier\n",
    "from sklearn.datasets import load_iris\n",
    "from sklearn.metrics import confusion_matrix\n",
    "iris = load_iris()\n",
    "X = iris.data\n",
    "target = iris.target\n",
    "\n",
    "knn = KNeighborsClassifier()\n",
    "knn.fit(X,target)\n",
    "predictions = knn.predict(X)\n",
    "\n",
    "mat = confusion_matrix(target,predictions)\n",
    "print mat"
   ]
  },
  {
   "cell_type": "code",
   "execution_count": null,
   "metadata": {
    "collapsed": false
   },
   "outputs": [],
   "source": [
    "row_labels = [\"Predicted_\"+x for x in iris.target_names]\n",
    "column_labels = [\"Actual_\"+x for x in iris.target_names]\n",
    "confusion_df = pd.DataFrame(mat,row_labels,column_labels)\n",
    "ax = sns.heatmap(confusion_df, square=False,cmap=\"Blues\")"
   ]
  },
  {
   "cell_type": "markdown",
   "metadata": {},
   "source": [
    "Even if you don't have a square matrix, you can plot data on a heatmap if you know what the rows and column variables are.\n",
    "\n",
    "For example, let's consider this dataset that has difference between the temperature for that month and the temperature on average for the past 150 years.\n",
    "\n",
    "We want to show that each year, the global temperature is farther above average, and this is true for every month.\n",
    "\n",
    "Therefore, we want the Rows to be the year, and the columns to be month, and the values to the difference from the average global temperature"
   ]
  },
  {
   "cell_type": "code",
   "execution_count": null,
   "metadata": {
    "collapsed": false,
    "scrolled": false
   },
   "outputs": [],
   "source": [
    "globaltemperatures = pd.read_csv(\"yearlytemp.csv\")\n",
    "globaltemperatures.sample(5)"
   ]
  },
  {
   "cell_type": "markdown",
   "metadata": {},
   "source": [
    "We're going to use the \"pivot\" function so that each month gets its own column.\n",
    "\n",
    "We'll end up with a Year x Month table, and each cellin the table contain the temperature difference"
   ]
  },
  {
   "cell_type": "code",
   "execution_count": null,
   "metadata": {
    "collapsed": false
   },
   "outputs": [],
   "source": [
    "temps_by_month_and_year = globaltemperatures.pivot(\"Year\",\"Month\", \"TempDiff\")\n",
    "print temps_by_month_and_year.head(10)"
   ]
  },
  {
   "cell_type": "markdown",
   "metadata": {},
   "source": [
    "Let's plot the heatmap now using the pivoted table"
   ]
  },
  {
   "cell_type": "code",
   "execution_count": null,
   "metadata": {
    "collapsed": false
   },
   "outputs": [],
   "source": [
    "import matplotlib.pyplot as plt\n",
    "\n",
    "plt.figure(figsize=(8, 16))\n",
    "plt.setp(ax.yaxis.get_majorticklabels(), fontsize=6)\n",
    "ax = sns.heatmap(temps_by_month_and_year,yticklabels=5,cmap=\"inferno\")\n",
    "ax.invert_yaxis()"
   ]
  }
 ],
 "metadata": {
  "kernelspec": {
   "display_name": "Python 2",
   "language": "python",
   "name": "python2"
  },
  "language_info": {
   "codemirror_mode": {
    "name": "ipython",
    "version": 2
   },
   "file_extension": ".py",
   "mimetype": "text/x-python",
   "name": "python",
   "nbconvert_exporter": "python",
   "pygments_lexer": "ipython2",
   "version": "2.7.12"
  }
 },
 "nbformat": 4,
 "nbformat_minor": 0
}
