{
 "cells": [
  {
   "cell_type": "markdown",
   "metadata": {},
   "source": [
    "### Review of Statistics Fundamentals"
   ]
  },
  {
   "cell_type": "code",
   "execution_count": null,
   "metadata": {
    "collapsed": true
   },
   "outputs": [],
   "source": [
    "#General imports\n",
    "import pandas as pd\n",
    "import matplotlib.pyplot as plt\n",
    "\n",
    "%matplotlib inline"
   ]
  },
  {
   "cell_type": "code",
   "execution_count": 38,
   "metadata": {
    "collapsed": false
   },
   "outputs": [
    {
     "name": "stdout",
     "output_type": "stream",
     "text": [
      "               model   mpg  cyl   disp   hp  drat     wt   qsec  vs  am  gear  \\\n",
      "0          Mazda RX4  21.0    6  160.0  110  3.90  2.620  16.46   0   1     4   \n",
      "1      Mazda RX4 Wag  21.0    6  160.0  110  3.90  2.875  17.02   0   1     4   \n",
      "2         Datsun 710  22.8    4  108.0   93  3.85  2.320  18.61   1   1     4   \n",
      "3     Hornet 4 Drive  21.4    6  258.0  110  3.08  3.215  19.44   1   0     3   \n",
      "4  Hornet Sportabout  18.7    8  360.0  175  3.15  3.440  17.02   0   0     3   \n",
      "\n",
      "   carb  \n",
      "0     4  \n",
      "1     4  \n",
      "2     1  \n",
      "3     1  \n",
      "4     2  \n"
     ]
    }
   ],
   "source": [
    "cars = pd.read_csv(\"cars.csv\")\n",
    "print cars.head(5)"
   ]
  },
  {
   "cell_type": "markdown",
   "metadata": {},
   "source": [
    "Can you check how many different are in your dataset?\n",
    "\n",
    "\n",
    "Hint: Use the len function\n"
   ]
  },
  {
   "cell_type": "code",
   "execution_count": null,
   "metadata": {
    "collapsed": false
   },
   "outputs": [],
   "source": []
  },
  {
   "cell_type": "markdown",
   "metadata": {},
   "source": [
    "#### Data dictionary\n",
    "|Variable|Definition|\n",
    "|--------|----------|\n",
    "|model|car model and mark\n",
    "|mpg|Miles/(US) gallon\n",
    "|cyl|Number of cylinders\n",
    "|disp|Displacement (cu.in.)\n",
    "|hp|Gross horsepower\n",
    "|drat|Rear axle ratio\n",
    "|wt\t| Weight (1000 lbs)\n",
    "|qsec|1/4 mile time\n",
    "|vs|V/S\n",
    "|am|Transmission (0 = automatic, 1 = manual)\n",
    "|gear|Number of gears\n",
    "|carb|Number of carburetors|"
   ]
  },
  {
   "cell_type": "markdown",
   "metadata": {},
   "source": [
    "#### Mean, Median, and Mode Review\n",
    "\n",
    "The following three questions will require you to use the mean, median, and mode function for a specific column\n",
    "\n",
    "Remember, you can do analysis on a specific column with the dataframe['columnname'].functionname()\n",
    "\n",
    "Where \"dataframe\" is the name of your dataset, \"columnname\" is the variable you are interested in analyzing, and \"functionname\" is the function you are calling"
   ]
  },
  {
   "cell_type": "markdown",
   "metadata": {},
   "source": [
    "1) What is the most common number of cylinders for a car in our dataset to have?"
   ]
  },
  {
   "cell_type": "code",
   "execution_count": null,
   "metadata": {
    "collapsed": true
   },
   "outputs": [],
   "source": []
  },
  {
   "cell_type": "markdown",
   "metadata": {},
   "source": [
    "2) What is the horsepower (hp) amount that half the cars in the dataset have a higher amount than?"
   ]
  },
  {
   "cell_type": "code",
   "execution_count": null,
   "metadata": {
    "collapsed": true
   },
   "outputs": [],
   "source": []
  },
  {
   "cell_type": "markdown",
   "metadata": {},
   "source": [
    "3) What is the average miles per gallon of a car in our data?"
   ]
  },
  {
   "cell_type": "code",
   "execution_count": null,
   "metadata": {
    "collapsed": true
   },
   "outputs": [],
   "source": []
  },
  {
   "cell_type": "markdown",
   "metadata": {},
   "source": [
    "##### Variability Review\n",
    "\n",
    "The following three questions require you to find the range, interquartile, and standard deviation of specific columns.\n",
    "\n",
    "Hint: Standard Deviation uses the std command, and the interquartile range can be found via the dataframe['columnname'].describe() function on your dataframe and column of interest "
   ]
  },
  {
   "cell_type": "markdown",
   "metadata": {},
   "source": [
    "1) What is the difference between the largest number of gears a car has and the smallest number of gears?"
   ]
  },
  {
   "cell_type": "code",
   "execution_count": null,
   "metadata": {
    "collapsed": true
   },
   "outputs": [],
   "source": []
  },
  {
   "cell_type": "markdown",
   "metadata": {},
   "source": [
    "2) What is the difference between the largest number of gears a car has and the smallest number of gears?"
   ]
  },
  {
   "cell_type": "code",
   "execution_count": null,
   "metadata": {
    "collapsed": true
   },
   "outputs": [],
   "source": []
  },
  {
   "cell_type": "markdown",
   "metadata": {},
   "source": [
    "What is the interquartile range of the 1/4 mile time for all cars?"
   ]
  },
  {
   "cell_type": "code",
   "execution_count": null,
   "metadata": {
    "collapsed": true
   },
   "outputs": [],
   "source": []
  },
  {
   "cell_type": "markdown",
   "metadata": {},
   "source": [
    "Are there any cars that seem like outliers using the interquartile range test?\n",
    "Hint: You can count the number of values in a column that are below a certain value using the following code:\n",
    "    \n",
    "    (dataframe['column'] < value ).sum()\n",
    "    \n",
    "'dataframe' is your dataset name\n",
    "\n",
    "'column' is the variable of interest\n",
    "\n",
    "'value' is the number you want to use as the maximum threshold to see if any entries are below that amount"
   ]
  },
  {
   "cell_type": "code",
   "execution_count": null,
   "metadata": {
    "collapsed": false
   },
   "outputs": [],
   "source": []
  },
  {
   "cell_type": "markdown",
   "metadata": {},
   "source": [
    "What is the standard deviation of the weight of the cars?"
   ]
  },
  {
   "cell_type": "code",
   "execution_count": null,
   "metadata": {
    "collapsed": false
   },
   "outputs": [],
   "source": []
  },
  {
   "cell_type": "markdown",
   "metadata": {},
   "source": [
    "How well does the range / 4 rule-of-thumb approximate the standard deviation for car weight?"
   ]
  },
  {
   "cell_type": "code",
   "execution_count": null,
   "metadata": {
    "collapsed": false
   },
   "outputs": [],
   "source": []
  },
  {
   "cell_type": "markdown",
   "metadata": {},
   "source": [
    "What does the distribution of car weight in our data look like?\n",
    "\n",
    "Hint: use the hist() function on the column of interest"
   ]
  },
  {
   "cell_type": "code",
   "execution_count": null,
   "metadata": {
    "collapsed": false
   },
   "outputs": [],
   "source": []
  },
  {
   "cell_type": "markdown",
   "metadata": {},
   "source": [
    "How much skew does the variable have?\n",
    "\n",
    "Hint: use the skew() function"
   ]
  },
  {
   "cell_type": "code",
   "execution_count": null,
   "metadata": {
    "collapsed": true
   },
   "outputs": [],
   "source": []
  },
  {
   "cell_type": "markdown",
   "metadata": {},
   "source": [
    "What does the distribution of car horsepower look like in our data?"
   ]
  },
  {
   "cell_type": "code",
   "execution_count": null,
   "metadata": {
    "collapsed": true
   },
   "outputs": [],
   "source": []
  },
  {
   "cell_type": "markdown",
   "metadata": {},
   "source": [
    "How much skew does this variable have? \n",
    "\n",
    "Does this mean that most cars tend to err on the side of lower horsepower or higher horsepower?"
   ]
  },
  {
   "cell_type": "code",
   "execution_count": null,
   "metadata": {
    "collapsed": false
   },
   "outputs": [],
   "source": []
  },
  {
   "cell_type": "markdown",
   "metadata": {},
   "source": [
    "Create dummy variables for the number of cylnders a car has\n",
    "\n",
    "If cars come in three varieties (4 cylinder, 6 cylinder, and 8 cylinder), how many dummy variables would you expect to be created?\n",
    "Hint: use the pd.get_dummies(dataframe['columnname'])"
   ]
  },
  {
   "cell_type": "code",
   "execution_count": null,
   "metadata": {
    "collapsed": true
   },
   "outputs": [],
   "source": []
  },
  {
   "cell_type": "markdown",
   "metadata": {},
   "source": [
    "Imagine we want to run an outlier detection test on both of the variables (weight and horsepower), using the standard deviation to check for outliers.\n",
    "\n",
    "Run the code on the variable that is appropriate to use this test on, given what you saw in their distributions\n",
    "\n",
    "Hint: Find the cutoff value for outliers using the standard deviation, and then find the columns corresponding to that using the following code:\n",
    "        \n",
    "        get the row indices for rows that have a column value below a certain threshold\n",
    "        indices = (dataframe['columnname'] < value )\n",
    "        \n",
    "        #select the just the rows from the dataframe that match those indices\n",
    "        dataframe[indices]\n",
    "        \n",
    "'dataframe' is your dataset name\n",
    "\n",
    "'columnname' is the variable of interest\n",
    "\n",
    "'value' is the number you want to use as the maximum threshold to see if any entries are below that amount"
   ]
  },
  {
   "cell_type": "code",
   "execution_count": null,
   "metadata": {
    "collapsed": true
   },
   "outputs": [],
   "source": []
  },
  {
   "cell_type": "markdown",
   "metadata": {},
   "source": [
    "#### Correlation Review"
   ]
  },
  {
   "cell_type": "markdown",
   "metadata": {},
   "source": [
    "Do you see any interesting correlations between two variables?\n",
    "\n",
    "Hint: use  dataframe['columnname1'].corr(dataframe['columnname2'])\n",
    "    \n",
    "'dataframe' is your dataset name\n",
    "\n",
    "'columnname1' is \\*one\\* of the variables of interest\n",
    "\n",
    "'columnname2' is \\*another\\* variable of interest"
   ]
  },
  {
   "cell_type": "code",
   "execution_count": 89,
   "metadata": {
    "collapsed": false,
    "scrolled": true
   },
   "outputs": [
    {
     "data": {
      "image/png": "[encoded data removed]",
      "text/plain": [
       "<matplotlib.figure.Figure at 0xec21630>"
      ]
     },
     "metadata": {},
     "output_type": "display_data"
    }
   ],
   "source": [
    "fig = plt.figure()\n",
    "ax = fig.add_subplot(111)\n",
    "cax = ax.matshow(cars.corr())\n",
    "fig.colorbar(cax)\n",
    "ax.set_xticks(range(len(cars.corr().index)))\n",
    "ax.set_yticks(range(len(cars.corr().index)))\n",
    "ax.set_xticklabels(cars.corr().index)\n",
    "ax.set_yticklabels(cars.corr().index)\n",
    "plt.show()"
   ]
  },
  {
   "cell_type": "markdown",
   "metadata": {},
   "source": [
    "Plot the strongest correlation you found.\n",
    "\n",
    "Hint: use the code:\n",
    "\n",
    "    dataframe.plot(kind='scatter', x='columnname1', y='columnname2')\n",
    "\n",
    "\n",
    "'dataframe' is your dataset name\n",
    "\n",
    "'columnname1' is one of the variables of interest (usually the predictor variable)\n",
    "\n",
    "'columnname2' is one of the variables of interest (usually the variable you are trying to predict)"
   ]
  },
  {
   "cell_type": "code",
   "execution_count": null,
   "metadata": {
    "collapsed": false
   },
   "outputs": [],
   "source": []
  }
 ],
 "metadata": {
  "kernelspec": {
   "display_name": "Python 2",
   "language": "python",
   "name": "python2"
  },
  "language_info": {
   "codemirror_mode": {
    "name": "ipython",
    "version": 2
   },
   "file_extension": ".py",
   "mimetype": "text/x-python",
   "name": "python",
   "nbconvert_exporter": "python",
   "pygments_lexer": "ipython2",
   "version": "2.7.11"
  }
 },
 "nbformat": 4,
 "nbformat_minor": 0
}
