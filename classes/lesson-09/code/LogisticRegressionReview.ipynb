{
 "cells": [
  {
   "cell_type": "markdown",
   "metadata": {},
   "source": [
    "# Review of Logistic Regression\n",
    "\n",
    "Logistic regression is a way for us to predict binary (two outcome) variables.\n",
    "\n",
    "It is similar to linear regression because we entering predictor variables into our model, and finding coefficients for each of those variables that describe how a 1 unit increase in the variable relates to the outcome."
   ]
  },
  {
   "cell_type": "markdown",
   "metadata": {},
   "source": [
    "The key difference is that the outcome isn't continuous, but rather, our model is predicting the log odds of the outcome variable occurring.\n",
    "\n",
    "From the log odds of our outcome occuring, we can know specifically what the odds and probability of our outcome occuring is based on the level of our predictor variables."
   ]
  },
  {
   "cell_type": "markdown",
   "metadata": {},
   "source": [
    "Let's look at a hypothetical scenario.\n",
    "\n",
    "Imagine we had the following data on whether people passed their test (1=yes, 0=no) and whether they studied (yes=1, 0=no). There are 20 cases, and 10 of those were people who passed the test:\n",
    "    \n",
    "    \n",
    "| PassedTest | Studied |\n",
    "|------------|---------|\n",
    "| 1          | 1       |\n",
    "| 1          | 1       |\n",
    "| 1          | 1       |\n",
    "| 1          | 1       |\n",
    "| 1          | 1       |\n",
    "| 1          | 1       |\n",
    "| 1          | 0       |\n",
    "| 1          | 0       |\n",
    "| 1          | 0       |\n",
    "| 1          | 0       |\n",
    "| 0          | 0       |\n",
    "| 0          | 0       |\n",
    "| 0          | 0       |\n",
    "| 0          | 0       |\n",
    "| 0          | 0       |\n",
    "| 0          | 0       |\n",
    "| 0          | 0       |\n",
    "| 0          | 1       |\n",
    "| 0          | 1       |\n",
    "| 0          | 1       |"
   ]
  },
  {
   "cell_type": "markdown",
   "metadata": {},
   "source": [
    "We can enter this exact data into a pandas dataframe, where one column is our outcome (\"passedtest\"), and the other column is our predictor (\"studied\")"
   ]
  },
  {
   "cell_type": "code",
   "execution_count": 62,
   "metadata": {
    "collapsed": false,
    "scrolled": true
   },
   "outputs": [
    {
     "data": {
      "text/html": [
       "<div>\n",
       "<table border=\"1\" class=\"dataframe\">\n",
       "  <thead>\n",
       "    <tr style=\"text-align: right;\">\n",
       "      <th></th>\n",
       "      <th>studied</th>\n",
       "      <th>passedtest</th>\n",
       "    </tr>\n",
       "  </thead>\n",
       "  <tbody>\n",
       "    <tr>\n",
       "      <th>0</th>\n",
       "      <td>1</td>\n",
       "      <td>1</td>\n",
       "    </tr>\n",
       "    <tr>\n",
       "      <th>1</th>\n",
       "      <td>1</td>\n",
       "      <td>1</td>\n",
       "    </tr>\n",
       "    <tr>\n",
       "      <th>2</th>\n",
       "      <td>1</td>\n",
       "      <td>1</td>\n",
       "    </tr>\n",
       "    <tr>\n",
       "      <th>3</th>\n",
       "      <td>1</td>\n",
       "      <td>1</td>\n",
       "    </tr>\n",
       "    <tr>\n",
       "      <th>4</th>\n",
       "      <td>1</td>\n",
       "      <td>1</td>\n",
       "    </tr>\n",
       "    <tr>\n",
       "      <th>5</th>\n",
       "      <td>1</td>\n",
       "      <td>1</td>\n",
       "    </tr>\n",
       "    <tr>\n",
       "      <th>6</th>\n",
       "      <td>1</td>\n",
       "      <td>0</td>\n",
       "    </tr>\n",
       "    <tr>\n",
       "      <th>7</th>\n",
       "      <td>1</td>\n",
       "      <td>0</td>\n",
       "    </tr>\n",
       "    <tr>\n",
       "      <th>8</th>\n",
       "      <td>1</td>\n",
       "      <td>0</td>\n",
       "    </tr>\n",
       "    <tr>\n",
       "      <th>9</th>\n",
       "      <td>1</td>\n",
       "      <td>0</td>\n",
       "    </tr>\n",
       "    <tr>\n",
       "      <th>10</th>\n",
       "      <td>0</td>\n",
       "      <td>0</td>\n",
       "    </tr>\n",
       "    <tr>\n",
       "      <th>11</th>\n",
       "      <td>0</td>\n",
       "      <td>0</td>\n",
       "    </tr>\n",
       "    <tr>\n",
       "      <th>12</th>\n",
       "      <td>0</td>\n",
       "      <td>0</td>\n",
       "    </tr>\n",
       "    <tr>\n",
       "      <th>13</th>\n",
       "      <td>0</td>\n",
       "      <td>0</td>\n",
       "    </tr>\n",
       "    <tr>\n",
       "      <th>14</th>\n",
       "      <td>0</td>\n",
       "      <td>0</td>\n",
       "    </tr>\n",
       "    <tr>\n",
       "      <th>15</th>\n",
       "      <td>0</td>\n",
       "      <td>0</td>\n",
       "    </tr>\n",
       "    <tr>\n",
       "      <th>16</th>\n",
       "      <td>0</td>\n",
       "      <td>0</td>\n",
       "    </tr>\n",
       "    <tr>\n",
       "      <th>17</th>\n",
       "      <td>0</td>\n",
       "      <td>1</td>\n",
       "    </tr>\n",
       "    <tr>\n",
       "      <th>18</th>\n",
       "      <td>0</td>\n",
       "      <td>1</td>\n",
       "    </tr>\n",
       "    <tr>\n",
       "      <th>19</th>\n",
       "      <td>0</td>\n",
       "      <td>1</td>\n",
       "    </tr>\n",
       "  </tbody>\n",
       "</table>\n",
       "</div>"
      ],
      "text/plain": [
       "    studied  passedtest\n",
       "0         1           1\n",
       "1         1           1\n",
       "2         1           1\n",
       "3         1           1\n",
       "4         1           1\n",
       "5         1           1\n",
       "6         1           0\n",
       "7         1           0\n",
       "8         1           0\n",
       "9         1           0\n",
       "10        0           0\n",
       "11        0           0\n",
       "12        0           0\n",
       "13        0           0\n",
       "14        0           0\n",
       "15        0           0\n",
       "16        0           0\n",
       "17        0           1\n",
       "18        0           1\n",
       "19        0           1"
      ]
     },
     "execution_count": 62,
     "metadata": {},
     "output_type": "execute_result"
    }
   ],
   "source": [
    "import pandas as pd\n",
    "data = [\n",
    "[1,1],\n",
    "[1,1],\n",
    "[1,1],\n",
    "[1,1],\n",
    "[1,1],\n",
    "[1,1],\n",
    "[1,0],\n",
    "[1,0],\n",
    "[1,0],\n",
    "[1,0],\n",
    "[0,0],\n",
    "[0,0],\n",
    "[0,0],\n",
    "[0,0],\n",
    "[0,0],\n",
    "[0,0],\n",
    "[0,0],\n",
    "[0,1],\n",
    "[0,1],\n",
    "[0,1],\n",
    "]\n",
    "df = pd.DataFrame(data,columns=[\"studied\",\"passedtest\"])\n",
    "df"
   ]
  },
  {
   "cell_type": "markdown",
   "metadata": {},
   "source": [
    "Let's look to see the difference in passing rate between those who studied and those who didn't\n",
    "\n",
    "The 'groupby' functon for a dataframe, can show the results of a descriptive statistics (for example, the mean) broken down by groups of interest.\n",
    "\n",
    "In this example, we want to examine differences between those who studied and those who didn't, so \"studied\" is our groupby variable.\n",
    "\n",
    "We want to know the average passing rate for each group, so we'll take the mean of how many people passed the test in that group."
   ]
  },
  {
   "cell_type": "code",
   "execution_count": 58,
   "metadata": {
    "collapsed": false,
    "scrolled": false
   },
   "outputs": [
    {
     "data": {
      "text/plain": [
       "studied\n",
       "0    0.3\n",
       "1    0.6\n",
       "Name: passedtest, dtype: float64"
      ]
     },
     "execution_count": 58,
     "metadata": {},
     "output_type": "execute_result"
    }
   ],
   "source": [
    "df.groupby(\"studied\")['passedtest'].mean()"
   ]
  },
  {
   "cell_type": "markdown",
   "metadata": {},
   "source": [
    "What do you notice?\n",
    "\n",
    "Are people who studied (group 1), any more likely to pass the test than those who did not (group 0)?\n",
    "\n",
    "\n",
    "Hopefully you said \"yes\" because people who studied had a 60% chance of passing the test, while people who didn't study had only a 30% chance of passing the test."
   ]
  },
  {
   "cell_type": "markdown",
   "metadata": {},
   "source": [
    "# Odds\n",
    "\n",
    "You can express how much more likely a group is to pass than another group by using the odds.\n",
    "\n",
    "For example, If one group has a .75 chance of passing, then the odds of passing is: .75 / (1 - .75) = 3\n",
    "\n",
    "If one group has a .25 chance of passing, then the odds of passing is: .25 / (1 - .25) = 1/3\n",
    "\n",
    "What are the odds of passing the test if you studied?"
   ]
  },
  {
   "cell_type": "code",
   "execution_count": 131,
   "metadata": {
    "collapsed": false,
    "scrolled": false
   },
   "outputs": [
    {
     "data": {
      "text/plain": [
       "1.4999999999999998"
      ]
     },
     "execution_count": 131,
     "metadata": {},
     "output_type": "execute_result"
    }
   ],
   "source": [
    "0.60 / (1 - .60)"
   ]
  },
  {
   "cell_type": "markdown",
   "metadata": {},
   "source": [
    "What are odds of passing if you did not study?"
   ]
  },
  {
   "cell_type": "code",
   "execution_count": 132,
   "metadata": {
    "collapsed": false
   },
   "outputs": [
    {
     "data": {
      "text/plain": [
       "0.4285714285714286"
      ]
     },
     "execution_count": 132,
     "metadata": {},
     "output_type": "execute_result"
    }
   ],
   "source": [
    ".30 / (1 - .30)"
   ]
  },
  {
   "cell_type": "markdown",
   "metadata": {},
   "source": [
    "Logistic regression is useful because it can figure out these odds for us, and tell us how much one variable increases the log odds of the outcome occuring. We can then transform the log odds into a simple odds to get a clearer picture."
   ]
  },
  {
   "cell_type": "markdown",
   "metadata": {},
   "source": [
    "# Logistic Regression\n",
    "\n",
    "We can have a logistic regression figure out these odds for us.\n",
    "\n",
    "Logistic regression tries to determine how the different variables relate to the log odds of the outcome.\n",
    "\n",
    "Each coefficient for each variable represents how a 1 unit increase in the variable corresponds to a change in the log odds of the outcome.\n"
   ]
  },
  {
   "cell_type": "markdown",
   "metadata": {},
   "source": [
    "First, we'll create a logistic regression clasifier object"
   ]
  },
  {
   "cell_type": "code",
   "execution_count": 147,
   "metadata": {
    "collapsed": false
   },
   "outputs": [],
   "source": [
    "from sklearn.linear_model import LogisticRegression\n",
    "\n",
    "#Create a logistic regression classifier object\n",
    "#We use C=1000000 to not have our model penalize the predictor (Make it artificially smaller)\n",
    "# and let its natural relationship with the outcome be describe.\n",
    "lm = LogisticRegression(C=100000)"
   ]
  },
  {
   "cell_type": "markdown",
   "metadata": {},
   "source": [
    "Next, we'll specify what are our predictior variables and outcome variables="
   ]
  },
  {
   "cell_type": "code",
   "execution_count": 148,
   "metadata": {
    "collapsed": false,
    "scrolled": true
   },
   "outputs": [],
   "source": [
    "#Set our X variable to be equal to the column that indicates whether or not people studied\n",
    "X = df[['studied']]\n",
    "y= df['passedtest']\n"
   ]
  },
  {
   "cell_type": "markdown",
   "metadata": {},
   "source": [
    "Now we can fit our logistic regression model, where we try to model how our predictor variable relates to the log odds of the outcome variable"
   ]
  },
  {
   "cell_type": "code",
   "execution_count": 149,
   "metadata": {
    "collapsed": false
   },
   "outputs": [
    {
     "data": {
      "text/plain": [
       "LogisticRegression(C=100000, class_weight=None, dual=False,\n",
       "          fit_intercept=True, intercept_scaling=1, max_iter=100,\n",
       "          multi_class='ovr', penalty='l2', random_state=None,\n",
       "          solver='liblinear', tol=0.0001, verbose=0)"
      ]
     },
     "execution_count": 149,
     "metadata": {},
     "output_type": "execute_result"
    }
   ],
   "source": [
    "lm.fit(X,y)"
   ]
  },
  {
   "cell_type": "markdown",
   "metadata": {},
   "source": [
    "Now that the model is fit, we can see what the coefficient is for 'studied'\n",
    "\n",
    "Notice that the coefficient is positive.\n",
    "\n",
    "This means that the variable has a positive relationship with the outcome.\n",
    "\n",
    "When studied is 1, it increase the log odds of the outcome occurring.\n",
    "\n",
    "Specifically, when people study, the log odds of passing multiply by 1.2527 vs. when people don't study"
   ]
  },
  {
   "cell_type": "code",
   "execution_count": 107,
   "metadata": {
    "collapsed": false,
    "scrolled": true
   },
   "outputs": [
    {
     "name": "stdout",
     "output_type": "stream",
     "text": [
      "[('studied', 1.2527477116304988)]\n"
     ]
    }
   ],
   "source": [
    "print zip([\"studied\"],lm.coef_[0])"
   ]
  },
  {
   "cell_type": "markdown",
   "metadata": {},
   "source": [
    "Because describing the coefficient in terms of the 'log odds' of our outcome is not clear, we can exponentiate our coefficient and interpret it in terms of increasing the 'odds' of our outcome occuring"
   ]
  },
  {
   "cell_type": "code",
   "execution_count": 108,
   "metadata": {
    "collapsed": false,
    "scrolled": false
   },
   "outputs": [
    {
     "data": {
      "text/plain": [
       "array([ 3.4999466])"
      ]
     },
     "execution_count": 108,
     "metadata": {},
     "output_type": "execute_result"
    }
   ],
   "source": [
    "import numpy as np\n",
    "np.exp(lm.coef_[0])"
   ]
  },
  {
   "cell_type": "markdown",
   "metadata": {},
   "source": [
    "Because 3.4999 is the exponentiation of our coefficient, we can say that studying multiplies the odds by 3.5 of passing the test vs. not studying.\n",
    "\n",
    "To make this point more clear, let's break the predictions down:\n",
    "\n",
    "First, we can compute what the odds are of passing if we didn't study by looking at what the odds are if when studying is 0. Remember, we have to exponentiate everything to express it in terms of odds.\n",
    "\n",
    "The equation is $$ exp(\\beta_0 + \\beta_1studying) \\\\$$\n",
    "\n",
    "Because studying is equal to 0,  the formula for the odds when not studying is exp(intercept)\n"
   ]
  },
  {
   "cell_type": "code",
   "execution_count": 124,
   "metadata": {
    "collapsed": false
   },
   "outputs": [
    {
     "name": "stdout",
     "output_type": "stream",
     "text": [
      "Odds without studying: 0.428576\n"
     ]
    }
   ],
   "source": [
    "print \"Odds without studying: %f\" % np.exp(lm.intercept_ )"
   ]
  },
  {
   "cell_type": "markdown",
   "metadata": {},
   "source": [
    "Notice that .428576 is the same value we got for our odds when we computed it by hand early in the lesson.\n",
    "\n",
    "Let's compare that to the odds of passing when we DID study.\n",
    "\n",
    "The equation is $$ exp(\\beta_0 + \\beta_1studying) \\\\$$\n",
    "\n",
    "Because studying is equal to 1, we have to multiply our studying coefficient by 1 and add that to our intercept\n"
   ]
  },
  {
   "cell_type": "code",
   "execution_count": 126,
   "metadata": {
    "collapsed": false
   },
   "outputs": [
    {
     "name": "stdout",
     "output_type": "stream",
     "text": [
      "Odds with studying: 1.499992\n"
     ]
    }
   ],
   "source": [
    "print \"Odds with studying: %f\" % np.exp(lm.intercept_ + lm.coef_[0] )"
   ]
  },
  {
   "cell_type": "markdown",
   "metadata": {},
   "source": [
    "So the odds of passing when not studying is .428576\n",
    "The odds of passing when studying is 1.49992\n",
    "\n",
    "Therefore, the ratio of 1.49992  to .428576 tells us how much the odds multiply when studying.\n",
    "\n",
    "This value, 3.5 is what we got for our Beta coefficient of studying. Thus, from the logistic regression model, we can know how much studying multiplies our odds of passing the test just by looking at its coefficient"
   ]
  },
  {
   "cell_type": "code",
   "execution_count": 128,
   "metadata": {
    "collapsed": false
   },
   "outputs": [
    {
     "name": "stdout",
     "output_type": "stream",
     "text": [
      "Relative Increase of Odds if Studying vs. not Studying: 3.499947\n"
     ]
    }
   ],
   "source": [
    "odds_ratio= np.exp(lm.intercept_ + lm.coef_[0] ) / np.exp(lm.intercept_ )\n",
    "print \"Relative Increase of Odds if Studying vs. not Studying: %f\" % odds_ratio"
   ]
  },
  {
   "cell_type": "markdown",
   "metadata": {},
   "source": [
    "# Determining Probabilities\n",
    "\n",
    "We can have our logistic regression model give us the specific probability of a person passing, if we know their value for the predictor variables.\n",
    "\n",
    "For example, if we know that the person studied, we can our model to predict the probability of that person passing using the \"predict_proba\" function.\n",
    "\n",
    "Our model gives that person a 60% chance of passing the test, and a 40% chance of not passing the test.\n",
    "\n",
    "Notice that this probability corresponds to exactly what we saw in our data, where 6 out of the 10 people who studied passed the test"
   ]
  },
  {
   "cell_type": "code",
   "execution_count": 134,
   "metadata": {
    "collapsed": false
   },
   "outputs": [
    {
     "data": {
      "text/plain": [
       "array([[ 0.40000125,  0.59999875]])"
      ]
     },
     "execution_count": 134,
     "metadata": {},
     "output_type": "execute_result"
    }
   ],
   "source": [
    "#set our predictor to just be one row of a person who studied\n",
    "\n",
    "observation = [1]\n",
    "#tell the trained logistic regression object to predict the probability of that observation \n",
    "#belonging to class 0 and the probability of that observation belonging to class 1\n",
    "predictions = lm.predict_proba(observation)\n",
    "predictions"
   ]
  },
  {
   "cell_type": "markdown",
   "metadata": {},
   "source": [
    "Likewise, we can also get the probability of passing the test if someone did not study.\n",
    "\n",
    "This person has a 30% chance of passing the test, which is exactly what we saw in the data.\n",
    "\n",
    "Out of the 10 people who did not study, only 3 passed the test."
   ]
  },
  {
   "cell_type": "code",
   "execution_count": 136,
   "metadata": {
    "collapsed": false
   },
   "outputs": [
    {
     "data": {
      "text/plain": [
       "array([[ 0.69999789,  0.30000211]])"
      ]
     },
     "execution_count": 136,
     "metadata": {},
     "output_type": "execute_result"
    }
   ],
   "source": [
    "#set our predictor to just be one row of a person who did not study\n",
    "\n",
    "observation = [0]\n",
    "#tell the trained logistic regression object to predict the probability of that observation \n",
    "#belonging to class 0 and the probability of that observation belonging to class 1\n",
    "predictions = lm.predict_proba(observation)\n",
    "predictions"
   ]
  },
  {
   "cell_type": "markdown",
   "metadata": {},
   "source": [
    "# Adjusting for class weight\n",
    "\n",
    "What if we knew that passing the test was extremely unlikely. We could give weight to the classes to let our model know that there is a small chance of passing the test.\n",
    "\n",
    "Let's say historically, only 20% of people pass the test. Therfore, for our class weight parameter, we are going to say there is an .80 probability of being in class 0, and a 20% probability of being in class 1.\n",
    "\n",
    "Now, when our model makes a prediction, even if you've studied, you only have a 27% chance of passing."
   ]
  },
  {
   "cell_type": "code",
   "execution_count": 155,
   "metadata": {
    "collapsed": false,
    "scrolled": true
   },
   "outputs": [
    {
     "data": {
      "text/plain": [
       "array([[ 0.73160795,  0.26839205]])"
      ]
     },
     "execution_count": 155,
     "metadata": {},
     "output_type": "execute_result"
    }
   ],
   "source": [
    "from sklearn.linear_model import LogisticRegression\n",
    "\n",
    "lm = LogisticRegression(class_weight={0:.80,1:.20})\n",
    "lm.fit(X,y)\n",
    "observation = [1]\n",
    "predictions = lm.predict_proba(observation)\n",
    "predictions"
   ]
  },
  {
   "cell_type": "markdown",
   "metadata": {},
   "source": [
    "# Regularizing the model (Prevent Overfitting)\n",
    "\n",
    "To prevent overfitting (having too many coefficients in the model that don't add anything), we can regularize the model by making the coefficients smaller. This regularization means that coefficients have to **really** contribute to the model (be large) to actually influence the model because they are going to be decreased by the reguarlization.\n",
    "\n",
    "The C parameter is the inverse regularization strength. Small values of C will make the model more regularized and will make the coefficients smaller.\n",
    "\n",
    "Let's fit a model with three different values for C: 100000 (mild regularlization), 1 (moderate regularization, .0001 (strong regularization).\n",
    "\n",
    "Notice how the coefficient gets smaller, and are biased downwards under stronger regularization"
   ]
  },
  {
   "cell_type": "code",
   "execution_count": 159,
   "metadata": {
    "collapsed": false
   },
   "outputs": [
    {
     "name": "stdout",
     "output_type": "stream",
     "text": [
      "Coefficient under mild regularlization: 1.252748\n",
      "Coefficient under moderate regularlization: 0.578903\n",
      "Coefficient under strong regularlization: 0.000100\n"
     ]
    }
   ],
   "source": [
    "lm = LogisticRegression(C=100000)\n",
    "lm.fit(X,y)\n",
    "print \"Coefficient under mild regularlization: %f\" % lm.coef_\n",
    "\n",
    "lm = LogisticRegression(C=1)\n",
    "lm.fit(X,y)\n",
    "print \"Coefficient under moderate regularlization: %f\" % lm.coef_\n",
    "\n",
    "lm = LogisticRegression(C=.0001)\n",
    "lm.fit(X,y)\n",
    "print \"Coefficient under strong regularlization: %f\" % lm.coef_"
   ]
  },
  {
   "cell_type": "markdown",
   "metadata": {},
   "source": [
    "# Finding the best C value\n",
    "\n",
    "In principle, regularization should make the model cross-validate better because it is not overfit to the specifics of our sample data. However, it is really going to make a difference when there are too many predictors.\n",
    "\n",
    "If we only have one predictor, then we don't need to regularize because overfitting happens as more predictors are added.\n",
    "\n",
    "We can use the grid search function of sklearn to go through different C values and see which model cross-validates the best.\n",
    "\n",
    "Notice how our model actually gets worse with regularlization, beca"
   ]
  },
  {
   "cell_type": "code",
   "execution_count": 176,
   "metadata": {
    "collapsed": false
   },
   "outputs": [
    {
     "data": {
      "text/plain": [
       "[mean: 0.65000, std: 0.28808, params: {'C': 10000},\n",
       " mean: 0.65000, std: 0.28808, params: {'C': 1},\n",
       " mean: 0.45000, std: 0.06929, params: {'C': 0.01},\n",
       " mean: 0.45000, std: 0.06929, params: {'C': 0.001}]"
      ]
     },
     "execution_count": 176,
     "metadata": {},
     "output_type": "execute_result"
    }
   ],
   "source": [
    "from sklearn import grid_search\n",
    "# Let's see which C value cross-validates the best(10000, 1, .01, .or .001)\n",
    "param_grid={'C': [10000,1,.01,.001]}\n",
    "\n",
    "gs = grid_search.GridSearchCV(\n",
    "    estimator=LogisticRegression(),\n",
    "    param_grid=param_grid,\n",
    "    cv=9,\n",
    "    scoring='accuracy'\n",
    "    )\n",
    "\n",
    "\n",
    "gs.fit(X, y)\n",
    "gs.grid_scores_"
   ]
  }
 ],
 "metadata": {
  "kernelspec": {
   "display_name": "Python 2",
   "language": "python",
   "name": "python2"
  },
  "language_info": {
   "codemirror_mode": {
    "name": "ipython",
    "version": 2
   },
   "file_extension": ".py",
   "mimetype": "text/x-python",
   "name": "python",
   "nbconvert_exporter": "python",
   "pygments_lexer": "ipython2",
   "version": "2.7.10"
  }
 },
 "nbformat": 4,
 "nbformat_minor": 0
}
